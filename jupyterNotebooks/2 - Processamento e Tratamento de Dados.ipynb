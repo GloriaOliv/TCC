{
 "cells": [
  {
   "cell_type": "markdown",
   "metadata": {
    "colab_type": "text",
    "id": "TeobA1-Zgk_K"
   },
   "source": [
    "# PUC MINAS\n",
    "\n",
    "## Pós Graduação em Ciência de Dados e Big Data (2019-2020)\n",
    "\n",
    "### Trabalho de Conclusão de Curso\n",
    "\n",
    "### Aluna: Maria da Glória dos Santos Batista de Oliveira\n",
    "\n",
    "\n"
   ]
  },
  {
   "cell_type": "markdown",
   "metadata": {
    "colab_type": "text",
    "id": "1xpvyKV5gk_M"
   },
   "source": [
    "__Leitura dos dados e importação das bibliotecas utilizadas__\n",
    "\n",
    "Para iniciar o trabalho, primeiramente é necessário fazer download dos datasets informados previamente. Assim o documento poderá ser lido sem que qualquer problema ocorra.\n",
    "\n",
    "No código a seguir, as importações das bibliotecas utilizadas e a definição dos métodos para facilitar a visualização dos dados e exibição de gráficos de value counts no Pandas."
   ]
  },
  {
   "cell_type": "code",
   "execution_count": 7,
   "metadata": {
    "colab": {},
    "colab_type": "code",
    "id": "HiUC2s32gk_N"
   },
   "outputs": [],
   "source": [
    "# Imports das bibliotecas utilizadas\n",
    "\n",
    "import pandas as pd\n",
    "import numpy as np\n",
    "\n",
    "# Não exibir as mensagens de warnings\n",
    "import warnings\n",
    "warnings.filterwarnings('ignore')"
   ]
  },
  {
   "cell_type": "markdown",
   "metadata": {
    "colab_type": "text",
    "id": "-9C3PY3Ggk_Q"
   },
   "source": [
    "Vamos realizar as importações dos datasets utilizados:"
   ]
  },
  {
   "cell_type": "code",
   "execution_count": 8,
   "metadata": {
    "colab": {},
    "colab_type": "code",
    "id": "Sn6ahxEIgk_R"
   },
   "outputs": [],
   "source": [
    "# Import do primeiro dataset utilizado\n",
    "\n",
    "arquivo = '../datasets_originais/df.csv'\n",
    "\n",
    "# filtrando as colunas que serão utilizadas:\n",
    "lista_colunas = [\"date\", \"cases\", \"deaths\", \"recovered\", \"monitoring\"]\n",
    "\n",
    "df = pd.read_csv(arquivo, sep=',', parse_dates=['date'], usecols=lista_colunas)"
   ]
  },
  {
   "cell_type": "code",
   "execution_count": 11,
   "metadata": {
    "colab": {},
    "colab_type": "code",
    "id": "gu0mK5QKgk_U"
   },
   "outputs": [],
   "source": [
    "# Import do segundo dataset utilizado\n",
    "\n",
    "cidades = '../datasets_originais/df_cidades.csv'\n",
    "\n",
    "# filtrando as colunas que serão utilizadas:\n",
    "lista_colunas = [\"date\", \"state\", \"name\", \"cases\", \"deaths\"]\n",
    "\n",
    "df_cidades = pd.read_csv(cidades, sep=',',parse_dates=['date'], usecols=lista_colunas)"
   ]
  },
  {
   "cell_type": "code",
   "execution_count": 17,
   "metadata": {
    "colab": {},
    "colab_type": "code",
    "id": "MWEP6GxVgk_X"
   },
   "outputs": [],
   "source": [
    "# Import do terceiro dataset utilizado\n",
    "\n",
    "coord_cidades = '../datasets_originais/df_coord_cidades.csv'\n",
    "\n",
    "# filtrando as colunas que serão utilizadas:\n",
    "lista_colunas = [\"city_name\", \"lat\", \"long\"]\n",
    "\n",
    "df_coord_cidades = pd.read_csv(coord_cidades, sep=',', usecols=lista_colunas)"
   ]
  },
  {
   "cell_type": "markdown",
   "metadata": {},
   "source": [
    "#### Vamos visualizar os datasets importados:"
   ]
  },
  {
   "cell_type": "code",
   "execution_count": 9,
   "metadata": {},
   "outputs": [
    {
     "data": {
      "text/html": [
       "<div>\n",
       "<style scoped>\n",
       "    .dataframe tbody tr th:only-of-type {\n",
       "        vertical-align: middle;\n",
       "    }\n",
       "\n",
       "    .dataframe tbody tr th {\n",
       "        vertical-align: top;\n",
       "    }\n",
       "\n",
       "    .dataframe thead th {\n",
       "        text-align: right;\n",
       "    }\n",
       "</style>\n",
       "<table border=\"1\" class=\"dataframe\">\n",
       "  <thead>\n",
       "    <tr style=\"text-align: right;\">\n",
       "      <th></th>\n",
       "      <th>date</th>\n",
       "      <th>cases</th>\n",
       "      <th>deaths</th>\n",
       "      <th>recovered</th>\n",
       "      <th>monitoring</th>\n",
       "    </tr>\n",
       "  </thead>\n",
       "  <tbody>\n",
       "    <tr>\n",
       "      <th>0</th>\n",
       "      <td>2020-02-25</td>\n",
       "      <td>0</td>\n",
       "      <td>0</td>\n",
       "      <td>NaN</td>\n",
       "      <td>NaN</td>\n",
       "    </tr>\n",
       "    <tr>\n",
       "      <th>1</th>\n",
       "      <td>2020-02-26</td>\n",
       "      <td>1</td>\n",
       "      <td>0</td>\n",
       "      <td>NaN</td>\n",
       "      <td>NaN</td>\n",
       "    </tr>\n",
       "    <tr>\n",
       "      <th>2</th>\n",
       "      <td>2020-02-27</td>\n",
       "      <td>1</td>\n",
       "      <td>0</td>\n",
       "      <td>NaN</td>\n",
       "      <td>NaN</td>\n",
       "    </tr>\n",
       "    <tr>\n",
       "      <th>3</th>\n",
       "      <td>2020-02-28</td>\n",
       "      <td>1</td>\n",
       "      <td>0</td>\n",
       "      <td>NaN</td>\n",
       "      <td>NaN</td>\n",
       "    </tr>\n",
       "    <tr>\n",
       "      <th>4</th>\n",
       "      <td>2020-02-29</td>\n",
       "      <td>2</td>\n",
       "      <td>0</td>\n",
       "      <td>NaN</td>\n",
       "      <td>NaN</td>\n",
       "    </tr>\n",
       "  </tbody>\n",
       "</table>\n",
       "</div>"
      ],
      "text/plain": [
       "        date  cases  deaths  recovered  monitoring\n",
       "0 2020-02-25      0       0        NaN         NaN\n",
       "1 2020-02-26      1       0        NaN         NaN\n",
       "2 2020-02-27      1       0        NaN         NaN\n",
       "3 2020-02-28      1       0        NaN         NaN\n",
       "4 2020-02-29      2       0        NaN         NaN"
      ]
     },
     "execution_count": 9,
     "metadata": {},
     "output_type": "execute_result"
    }
   ],
   "source": [
    "# Visualizando as 5 primeiras linhas:\n",
    "\n",
    "df.head(5)"
   ]
  },
  {
   "cell_type": "code",
   "execution_count": 13,
   "metadata": {},
   "outputs": [
    {
     "data": {
      "text/html": [
       "<div>\n",
       "<style scoped>\n",
       "    .dataframe tbody tr th:only-of-type {\n",
       "        vertical-align: middle;\n",
       "    }\n",
       "\n",
       "    .dataframe tbody tr th {\n",
       "        vertical-align: top;\n",
       "    }\n",
       "\n",
       "    .dataframe thead th {\n",
       "        text-align: right;\n",
       "    }\n",
       "</style>\n",
       "<table border=\"1\" class=\"dataframe\">\n",
       "  <thead>\n",
       "    <tr style=\"text-align: right;\">\n",
       "      <th></th>\n",
       "      <th>date</th>\n",
       "      <th>state</th>\n",
       "      <th>name</th>\n",
       "      <th>cases</th>\n",
       "      <th>deaths</th>\n",
       "    </tr>\n",
       "  </thead>\n",
       "  <tbody>\n",
       "    <tr>\n",
       "      <th>0</th>\n",
       "      <td>2020-03-27</td>\n",
       "      <td>AC</td>\n",
       "      <td>Acrelândia</td>\n",
       "      <td>0</td>\n",
       "      <td>0</td>\n",
       "    </tr>\n",
       "    <tr>\n",
       "      <th>1</th>\n",
       "      <td>2020-03-27</td>\n",
       "      <td>AC</td>\n",
       "      <td>Assis Brasil</td>\n",
       "      <td>0</td>\n",
       "      <td>0</td>\n",
       "    </tr>\n",
       "    <tr>\n",
       "      <th>2</th>\n",
       "      <td>2020-03-27</td>\n",
       "      <td>AC</td>\n",
       "      <td>Brasiléia</td>\n",
       "      <td>0</td>\n",
       "      <td>0</td>\n",
       "    </tr>\n",
       "    <tr>\n",
       "      <th>3</th>\n",
       "      <td>2020-03-27</td>\n",
       "      <td>AC</td>\n",
       "      <td>Bujari</td>\n",
       "      <td>0</td>\n",
       "      <td>0</td>\n",
       "    </tr>\n",
       "    <tr>\n",
       "      <th>4</th>\n",
       "      <td>2020-03-27</td>\n",
       "      <td>AC</td>\n",
       "      <td>Capixaba</td>\n",
       "      <td>0</td>\n",
       "      <td>0</td>\n",
       "    </tr>\n",
       "  </tbody>\n",
       "</table>\n",
       "</div>"
      ],
      "text/plain": [
       "        date state          name  cases  deaths\n",
       "0 2020-03-27    AC    Acrelândia      0       0\n",
       "1 2020-03-27    AC  Assis Brasil      0       0\n",
       "2 2020-03-27    AC     Brasiléia      0       0\n",
       "3 2020-03-27    AC        Bujari      0       0\n",
       "4 2020-03-27    AC      Capixaba      0       0"
      ]
     },
     "execution_count": 13,
     "metadata": {},
     "output_type": "execute_result"
    }
   ],
   "source": [
    "# Visualizando as 5 primeiras linhas:\n",
    "\n",
    "df_cidades.head(5)"
   ]
  },
  {
   "cell_type": "code",
   "execution_count": 30,
   "metadata": {},
   "outputs": [
    {
     "data": {
      "text/html": [
       "<div>\n",
       "<style scoped>\n",
       "    .dataframe tbody tr th:only-of-type {\n",
       "        vertical-align: middle;\n",
       "    }\n",
       "\n",
       "    .dataframe tbody tr th {\n",
       "        vertical-align: top;\n",
       "    }\n",
       "\n",
       "    .dataframe thead th {\n",
       "        text-align: right;\n",
       "    }\n",
       "</style>\n",
       "<table border=\"1\" class=\"dataframe\">\n",
       "  <thead>\n",
       "    <tr style=\"text-align: right;\">\n",
       "      <th></th>\n",
       "      <th>city_name</th>\n",
       "      <th>lat</th>\n",
       "      <th>long</th>\n",
       "    </tr>\n",
       "  </thead>\n",
       "  <tbody>\n",
       "    <tr>\n",
       "      <th>0</th>\n",
       "      <td>Abadia de Goiás</td>\n",
       "      <td>-16.75730</td>\n",
       "      <td>-49.4412</td>\n",
       "    </tr>\n",
       "    <tr>\n",
       "      <th>1</th>\n",
       "      <td>Abadia dos Dourados</td>\n",
       "      <td>-18.48310</td>\n",
       "      <td>-47.3916</td>\n",
       "    </tr>\n",
       "    <tr>\n",
       "      <th>2</th>\n",
       "      <td>Abadiânia</td>\n",
       "      <td>-16.19700</td>\n",
       "      <td>-48.7057</td>\n",
       "    </tr>\n",
       "    <tr>\n",
       "      <th>3</th>\n",
       "      <td>Abaeté</td>\n",
       "      <td>-19.15510</td>\n",
       "      <td>-45.4444</td>\n",
       "    </tr>\n",
       "    <tr>\n",
       "      <th>4</th>\n",
       "      <td>Abaetetuba</td>\n",
       "      <td>-1.72183</td>\n",
       "      <td>-48.8788</td>\n",
       "    </tr>\n",
       "  </tbody>\n",
       "</table>\n",
       "</div>"
      ],
      "text/plain": [
       "             city_name       lat     long\n",
       "0      Abadia de Goiás -16.75730 -49.4412\n",
       "1  Abadia dos Dourados -18.48310 -47.3916\n",
       "2            Abadiânia -16.19700 -48.7057\n",
       "3               Abaeté -19.15510 -45.4444\n",
       "4           Abaetetuba  -1.72183 -48.8788"
      ]
     },
     "execution_count": 30,
     "metadata": {},
     "output_type": "execute_result"
    }
   ],
   "source": [
    "# Visualizando as 5 primeiras linhas:\n",
    "df_coord_cidades.head(5)"
   ]
  },
  {
   "cell_type": "markdown",
   "metadata": {
    "colab_type": "text",
    "id": "eGhvtDV6gk_o"
   },
   "source": [
    "#### Vamos fazer a verificação se os dataframes possuem alguma coluna com valor nulo:"
   ]
  },
  {
   "cell_type": "code",
   "execution_count": 19,
   "metadata": {
    "colab": {
     "base_uri": "https://localhost:8080/",
     "height": 198
    },
    "colab_type": "code",
    "id": "HrbqRPAhgk_p",
    "outputId": "51d5feae-5133-49cc-80b7-3b10c8f3817e"
   },
   "outputs": [
    {
     "data": {
      "text/plain": [
       "date          False\n",
       "cases         False\n",
       "deaths        False\n",
       "recovered      True\n",
       "monitoring     True\n",
       "dtype: bool"
      ]
     },
     "execution_count": 19,
     "metadata": {},
     "output_type": "execute_result"
    }
   ],
   "source": [
    "# Verificando valores nulos\n",
    "\n",
    "df.isna().any()"
   ]
  },
  {
   "cell_type": "markdown",
   "metadata": {
    "colab_type": "text",
    "id": "S38qDWpXgk_s"
   },
   "source": [
    "Como podemos observar, existem duas colunas que possuem valores nulos: \n",
    "- recovered \n",
    "- monitoring"
   ]
  },
  {
   "cell_type": "markdown",
   "metadata": {
    "colab_type": "text",
    "id": "UbGEZT2Kgk_s"
   },
   "source": [
    "Verificando se no dataframe existem valores duplicados:"
   ]
  },
  {
   "cell_type": "code",
   "execution_count": 20,
   "metadata": {
    "colab": {},
    "colab_type": "code",
    "id": "nB-tvPLugk_t"
   },
   "outputs": [],
   "source": [
    "# Verificação de duplicidade\n",
    "\n",
    "ind_duplicado = df.duplicated().any()"
   ]
  },
  {
   "cell_type": "markdown",
   "metadata": {
    "colab_type": "text",
    "id": "n5X5i-kzgk_z"
   },
   "source": [
    "Agora vamos ver se existem valores duplicados:"
   ]
  },
  {
   "cell_type": "code",
   "execution_count": 21,
   "metadata": {
    "colab": {},
    "colab_type": "code",
    "id": "gLt-mb5jgk_z",
    "outputId": "57fdf8c7-1743-4100-f3bf-1206d07b11e1"
   },
   "outputs": [
    {
     "name": "stdout",
     "output_type": "stream",
     "text": [
      "False\n"
     ]
    }
   ],
   "source": [
    "# Visualizando se existem duplicidades\n",
    "\n",
    "print(ind_duplicado)"
   ]
  },
  {
   "cell_type": "markdown",
   "metadata": {
    "colab_type": "text",
    "id": "4S-piJq7gk_2"
   },
   "source": [
    "Como podemos observar não há registro duplicado no dataset."
   ]
  },
  {
   "cell_type": "code",
   "execution_count": 22,
   "metadata": {
    "colab": {},
    "colab_type": "code",
    "id": "mL8nBW0rgk_3",
    "outputId": "d7d2896f-0f5e-4d39-fad2-853d8d4e644d"
   },
   "outputs": [
    {
     "data": {
      "text/plain": [
       "date      False\n",
       "state     False\n",
       "name      False\n",
       "cases     False\n",
       "deaths    False\n",
       "dtype: bool"
      ]
     },
     "execution_count": 22,
     "metadata": {},
     "output_type": "execute_result"
    }
   ],
   "source": [
    "# Verificando valores nulos no dataframe sobre cidades\n",
    "\n",
    "df_cidades.isna().any()"
   ]
  },
  {
   "cell_type": "markdown",
   "metadata": {
    "colab_type": "text",
    "id": "TFm_a2dvgk_5"
   },
   "source": [
    "Como podemos observar, não existem colunas que possuam valores nulos."
   ]
  },
  {
   "cell_type": "markdown",
   "metadata": {
    "colab_type": "text",
    "id": "nFy5Dx2Rgk_6"
   },
   "source": [
    "Verificando se o dataframe existem valores duplicados:"
   ]
  },
  {
   "cell_type": "code",
   "execution_count": 31,
   "metadata": {
    "colab": {},
    "colab_type": "code",
    "id": "WXbRpgk3gk_6"
   },
   "outputs": [],
   "source": [
    "# Verificação de duplicidade\n",
    "\n",
    "ind_duplicado = df_cidades.duplicated().any()"
   ]
  },
  {
   "cell_type": "markdown",
   "metadata": {
    "colab_type": "text",
    "id": "UhovisQagk_9"
   },
   "source": [
    "Agora vamos ver se existem valores duplicados:"
   ]
  },
  {
   "cell_type": "code",
   "execution_count": 24,
   "metadata": {
    "colab": {},
    "colab_type": "code",
    "id": "9MAU5j_ygk_-",
    "outputId": "ead330bd-23d8-4cb4-e945-493bba2a884b"
   },
   "outputs": [
    {
     "name": "stdout",
     "output_type": "stream",
     "text": [
      "False\n"
     ]
    }
   ],
   "source": [
    "# Visualizando se existem duplicidades\n",
    "\n",
    "print(ind_duplicado)"
   ]
  },
  {
   "cell_type": "markdown",
   "metadata": {
    "colab_type": "text",
    "id": "qOUk4kuOglAA"
   },
   "source": [
    "Como podemos observar não existem registros duplicados."
   ]
  },
  {
   "cell_type": "markdown",
   "metadata": {
    "colab_type": "text",
    "id": "4_kUliElglAB"
   },
   "source": [
    "Agora iremos verificar se existem valores nulos no dataset:"
   ]
  },
  {
   "cell_type": "code",
   "execution_count": 29,
   "metadata": {
    "colab": {},
    "colab_type": "code",
    "id": "eLaxMdl2glAB",
    "outputId": "0ebe1f3c-6726-4df2-9adc-0693a54cbcee"
   },
   "outputs": [
    {
     "data": {
      "text/plain": [
       "city_name    False\n",
       "lat          False\n",
       "long         False\n",
       "dtype: bool"
      ]
     },
     "execution_count": 29,
     "metadata": {},
     "output_type": "execute_result"
    }
   ],
   "source": [
    "# Verificando valores nulos\n",
    "\n",
    "df_coord_cidades.isna().any()"
   ]
  },
  {
   "cell_type": "markdown",
   "metadata": {
    "colab_type": "text",
    "id": "O44RNIIfglAF"
   },
   "source": [
    "Como podemos ver não existem registros nulos no dataframe."
   ]
  },
  {
   "cell_type": "markdown",
   "metadata": {
    "colab_type": "text",
    "id": "vfQjiLWHglAG"
   },
   "source": [
    "Verificando registros duplicados no dataframe:"
   ]
  },
  {
   "cell_type": "code",
   "execution_count": 32,
   "metadata": {
    "colab": {},
    "colab_type": "code",
    "id": "tb_cnByRglAG"
   },
   "outputs": [],
   "source": [
    "# Verificação de duplicidade\n",
    "ind_duplicado = df_coord_cidades.duplicated().any()"
   ]
  },
  {
   "cell_type": "markdown",
   "metadata": {
    "colab_type": "text",
    "id": "_Isk_VmJglAI"
   },
   "source": [
    "Visualizando se existem registros duplicados:"
   ]
  },
  {
   "cell_type": "code",
   "execution_count": 33,
   "metadata": {
    "colab": {
     "base_uri": "https://localhost:8080/",
     "height": 198
    },
    "colab_type": "code",
    "id": "xIpz4-FmglAJ",
    "outputId": "4160e403-bece-4def-c0b2-bca4324e7183"
   },
   "outputs": [
    {
     "name": "stdout",
     "output_type": "stream",
     "text": [
      "False\n"
     ]
    }
   ],
   "source": [
    "# Visualizando se existem duplicidades\n",
    "\n",
    "print(ind_duplicado)"
   ]
  },
  {
   "cell_type": "markdown",
   "metadata": {
    "colab_type": "text",
    "id": "inyM8RGlglAL"
   },
   "source": [
    "Como podemos observar não há registro duplicado no dataset."
   ]
  },
  {
   "cell_type": "markdown",
   "metadata": {
    "colab_type": "text",
    "id": "7z6oWOYhglAM"
   },
   "source": [
    "#### Vamos realizar o tratamento do dataframe que possui valores nulos:"
   ]
  },
  {
   "cell_type": "code",
   "execution_count": 34,
   "metadata": {
    "colab": {},
    "colab_type": "code",
    "id": "3MTzE2FcglAM"
   },
   "outputs": [],
   "source": [
    "# Resolvendo o problema de valores nulos no dataframe: preenchendo valores nulos com zero\n",
    "\n",
    "df_corona=df.fillna(0)"
   ]
  },
  {
   "cell_type": "markdown",
   "metadata": {
    "colab_type": "text",
    "id": "Vy2CA3aNglAO"
   },
   "source": [
    "___Agora que os dados nulos foram tratados dentro do dataframe, será necessário realizar a verificação de como o pandas identificou os dados no momento da leitura do dataset, será utilizado o comando info() para verificar essas informações.___"
   ]
  },
  {
   "cell_type": "code",
   "execution_count": 35,
   "metadata": {
    "colab": {
     "base_uri": "https://localhost:8080/",
     "height": 198
    },
    "colab_type": "code",
    "id": "uyLbPwGtglAP",
    "outputId": "64df3d87-13a4-4c57-c360-c0f0e7fb529c"
   },
   "outputs": [
    {
     "name": "stdout",
     "output_type": "stream",
     "text": [
      "<class 'pandas.core.frame.DataFrame'>\n",
      "RangeIndex: 172 entries, 0 to 171\n",
      "Data columns (total 5 columns):\n",
      " #   Column      Non-Null Count  Dtype         \n",
      "---  ------      --------------  -----         \n",
      " 0   date        172 non-null    datetime64[ns]\n",
      " 1   cases       172 non-null    int64         \n",
      " 2   deaths      172 non-null    int64         \n",
      " 3   recovered   172 non-null    float64       \n",
      " 4   monitoring  172 non-null    float64       \n",
      "dtypes: datetime64[ns](1), float64(2), int64(2)\n",
      "memory usage: 6.8 KB\n"
     ]
    }
   ],
   "source": [
    "# Visualizando a informação sobre os datatypes\n",
    "\n",
    "df_corona.info()"
   ]
  },
  {
   "cell_type": "markdown",
   "metadata": {
    "colab_type": "text",
    "id": "s6KLeOv4glAX"
   },
   "source": [
    "Como podemos observar, será necessário mudar o datatype de duas colunas: \n",
    "- recovered \n",
    "- monitoring"
   ]
  },
  {
   "cell_type": "markdown",
   "metadata": {
    "colab_type": "text",
    "id": "Ak6trxlFglAX"
   },
   "source": [
    "Vamos realizar o tratamento para que todas as colunas numéricas possuam o mesmo datatype (int)."
   ]
  },
  {
   "cell_type": "code",
   "execution_count": 36,
   "metadata": {
    "colab": {},
    "colab_type": "code",
    "id": "NaPQWdxwglAY"
   },
   "outputs": [],
   "source": [
    "# Mudando o datatype de Float para Int e criando um novo dataframe\n",
    "\n",
    "df_corona=df_corona.astype({\"recovered\": int, \"monitoring\": int})"
   ]
  },
  {
   "cell_type": "markdown",
   "metadata": {
    "colab_type": "text",
    "id": "EMsIvBnCglAd"
   },
   "source": [
    "Agora vamos verificar se os datatypes foram realmente alterados nesse novo dataframe."
   ]
  },
  {
   "cell_type": "code",
   "execution_count": 37,
   "metadata": {
    "colab": {
     "base_uri": "https://localhost:8080/",
     "height": 164
    },
    "colab_type": "code",
    "id": "c1_LYEEZglAe",
    "outputId": "7ebe8710-3819-4a79-8655-e45a2d8bf0b5",
    "scrolled": true
   },
   "outputs": [
    {
     "name": "stdout",
     "output_type": "stream",
     "text": [
      "<class 'pandas.core.frame.DataFrame'>\n",
      "RangeIndex: 172 entries, 0 to 171\n",
      "Data columns (total 5 columns):\n",
      " #   Column      Non-Null Count  Dtype         \n",
      "---  ------      --------------  -----         \n",
      " 0   date        172 non-null    datetime64[ns]\n",
      " 1   cases       172 non-null    int64         \n",
      " 2   deaths      172 non-null    int64         \n",
      " 3   recovered   172 non-null    int64         \n",
      " 4   monitoring  172 non-null    int64         \n",
      "dtypes: datetime64[ns](1), int64(4)\n",
      "memory usage: 6.8 KB\n"
     ]
    }
   ],
   "source": [
    "# Visualizando os dados\n",
    "\n",
    "df_corona.info()"
   ]
  },
  {
   "cell_type": "markdown",
   "metadata": {
    "colab_type": "text",
    "id": "BlYw7FcZglAi"
   },
   "source": [
    "Realizando a verificação se haverá necessidade de alterar os datatypes do segundo dataset:"
   ]
  },
  {
   "cell_type": "code",
   "execution_count": 38,
   "metadata": {
    "colab": {},
    "colab_type": "code",
    "id": "1kOMPWNRglAi",
    "outputId": "8f5c4c99-2640-4265-ec28-dc9b57954a44"
   },
   "outputs": [
    {
     "name": "stdout",
     "output_type": "stream",
     "text": [
      "<class 'pandas.core.frame.DataFrame'>\n",
      "RangeIndex: 787674 entries, 0 to 787673\n",
      "Data columns (total 5 columns):\n",
      " #   Column  Non-Null Count   Dtype         \n",
      "---  ------  --------------   -----         \n",
      " 0   date    787674 non-null  datetime64[ns]\n",
      " 1   state   787674 non-null  object        \n",
      " 2   name    787674 non-null  object        \n",
      " 3   cases   787674 non-null  int64         \n",
      " 4   deaths  787674 non-null  int64         \n",
      "dtypes: datetime64[ns](1), int64(2), object(2)\n",
      "memory usage: 30.0+ MB\n"
     ]
    }
   ],
   "source": [
    "# Mostra a informação do dataframe\n",
    "\n",
    "df_cidades.info()"
   ]
  },
  {
   "cell_type": "markdown",
   "metadata": {
    "colab_type": "text",
    "id": "GVwGYElrglAk"
   },
   "source": [
    "Não havera a necessidade de alterar nenhum datatype do dataframe."
   ]
  },
  {
   "cell_type": "markdown",
   "metadata": {
    "colab_type": "text",
    "id": "DXLEZEAgglAl"
   },
   "source": [
    "Realizando a verificação se haverá necessidade de alterar os datatypes do terceiro dataset:"
   ]
  },
  {
   "cell_type": "code",
   "execution_count": 39,
   "metadata": {
    "colab": {},
    "colab_type": "code",
    "id": "_TVkf-9yglAl",
    "outputId": "f5917744-20b5-4c78-83a3-70550ddf5972"
   },
   "outputs": [
    {
     "name": "stdout",
     "output_type": "stream",
     "text": [
      "<class 'pandas.core.frame.DataFrame'>\n",
      "RangeIndex: 5570 entries, 0 to 5569\n",
      "Data columns (total 3 columns):\n",
      " #   Column     Non-Null Count  Dtype  \n",
      "---  ------     --------------  -----  \n",
      " 0   city_name  5570 non-null   object \n",
      " 1   lat        5570 non-null   float64\n",
      " 2   long       5570 non-null   float64\n",
      "dtypes: float64(2), object(1)\n",
      "memory usage: 130.7+ KB\n"
     ]
    }
   ],
   "source": [
    "# Visualizando a informação sobre os datatypes\n",
    "df_coord_cidades.info()"
   ]
  },
  {
   "cell_type": "markdown",
   "metadata": {
    "colab_type": "text",
    "id": "eNefDttMglAn"
   },
   "source": [
    "Como podemos verificar não haverá a necessidade de nenhuma alteração nos datatypes."
   ]
  },
  {
   "cell_type": "markdown",
   "metadata": {
    "colab_type": "text",
    "id": "IgW0z5UnglAo"
   },
   "source": [
    "#### Incluindo um novo indicador no dataframe"
   ]
  },
  {
   "cell_type": "markdown",
   "metadata": {
    "colab_type": "text",
    "id": "4hygCoiXglAo"
   },
   "source": [
    "A partir dos dados importados do dataset, vamos criar uma nova coluna para análise no dataframe:"
   ]
  },
  {
   "cell_type": "markdown",
   "metadata": {
    "colab_type": "text",
    "id": "_a2-Lh2VglAo"
   },
   "source": [
    "Casos ativos = Casos – Mortes – Recuperados"
   ]
  },
  {
   "cell_type": "markdown",
   "metadata": {
    "colab_type": "text",
    "id": "T28Oo1VDglAp"
   },
   "source": [
    "Neste contexto, vamos analisar uma pessoa que contraiu o Coronavírus, ela não morreu porém ainda não se recuperou da doença."
   ]
  },
  {
   "cell_type": "code",
   "execution_count": 40,
   "metadata": {
    "colab": {},
    "colab_type": "code",
    "id": "HHZ7SfjuglAp"
   },
   "outputs": [],
   "source": [
    "# Criando uma nova coluna\n",
    "\n",
    "df_corona['active'] = df_corona['cases'] - df_corona['deaths'] - df_corona['recovered']"
   ]
  },
  {
   "cell_type": "markdown",
   "metadata": {
    "colab_type": "text",
    "id": "5AQVh8u6glAs"
   },
   "source": [
    "Agora vamos visualizar o dataframe modificado:"
   ]
  },
  {
   "cell_type": "code",
   "execution_count": 41,
   "metadata": {
    "colab": {
     "base_uri": "https://localhost:8080/",
     "height": 164
    },
    "colab_type": "code",
    "id": "rnYbRHksglAt",
    "outputId": "021070a6-0935-43f1-9e6a-38219b779032"
   },
   "outputs": [
    {
     "name": "stdout",
     "output_type": "stream",
     "text": [
      "<class 'pandas.core.frame.DataFrame'>\n",
      "RangeIndex: 172 entries, 0 to 171\n",
      "Data columns (total 6 columns):\n",
      " #   Column      Non-Null Count  Dtype         \n",
      "---  ------      --------------  -----         \n",
      " 0   date        172 non-null    datetime64[ns]\n",
      " 1   cases       172 non-null    int64         \n",
      " 2   deaths      172 non-null    int64         \n",
      " 3   recovered   172 non-null    int64         \n",
      " 4   monitoring  172 non-null    int64         \n",
      " 5   active      172 non-null    int64         \n",
      "dtypes: datetime64[ns](1), int64(5)\n",
      "memory usage: 8.2 KB\n"
     ]
    }
   ],
   "source": [
    "# Visualizando os dados\n",
    "\n",
    "df_corona.info()"
   ]
  },
  {
   "cell_type": "markdown",
   "metadata": {
    "colab_type": "text",
    "id": "uluEGmtaglAw"
   },
   "source": [
    "Agora será necessário verificar os dados temporais contidos nos dataframes."
   ]
  },
  {
   "cell_type": "code",
   "execution_count": 42,
   "metadata": {
    "colab": {
     "base_uri": "https://localhost:8080/",
     "height": 198
    },
    "colab_type": "code",
    "id": "M91aoBveglAw",
    "outputId": "23a409d6-9c96-4c63-e7e9-10dadc4e6c4e"
   },
   "outputs": [
    {
     "data": {
      "text/plain": [
       "count                     172\n",
       "unique                    172\n",
       "top       2020-03-13 00:00:00\n",
       "freq                        1\n",
       "first     2020-02-25 00:00:00\n",
       "last      2020-08-14 00:00:00\n",
       "Name: date, dtype: object"
      ]
     },
     "execution_count": 42,
     "metadata": {},
     "output_type": "execute_result"
    }
   ],
   "source": [
    "# Verifica os dados temporais do dataframe\n",
    "\n",
    "df_corona.date.describe()"
   ]
  },
  {
   "cell_type": "code",
   "execution_count": 43,
   "metadata": {
    "colab": {},
    "colab_type": "code",
    "id": "PNktH9bGglAy",
    "outputId": "7d14a960-fc7c-471a-d374-dcb7c743f72a"
   },
   "outputs": [
    {
     "data": {
      "text/plain": [
       "count                  787674\n",
       "unique                    142\n",
       "top       2020-04-01 00:00:00\n",
       "freq                     5547\n",
       "first     2020-03-27 00:00:00\n",
       "last      2020-08-15 00:00:00\n",
       "Name: date, dtype: object"
      ]
     },
     "execution_count": 43,
     "metadata": {},
     "output_type": "execute_result"
    }
   ],
   "source": [
    "# Verifica os dados temporais do dataframe\n",
    "\n",
    "df_cidades.date.describe()"
   ]
  },
  {
   "cell_type": "markdown",
   "metadata": {
    "colab_type": "text",
    "id": "N-K6itZwglA1"
   },
   "source": [
    "Com a informação obtida dos dataframes, é possível observar a data de início e data de término contidas nos arquivos."
   ]
  },
  {
   "cell_type": "markdown",
   "metadata": {
    "colab_type": "text",
    "id": "sREi6GVfglA1"
   },
   "source": [
    "### Agrupando os dados"
   ]
  },
  {
   "cell_type": "markdown",
   "metadata": {
    "colab_type": "text",
    "id": "W7VVMRncglA2"
   },
   "source": [
    "Os dados serão mostrados de maneira que o número casos, mortes, monitorados, recuperados e ativos sejam agrupados por data."
   ]
  },
  {
   "cell_type": "code",
   "execution_count": 44,
   "metadata": {
    "colab": {},
    "colab_type": "code",
    "id": "2JMEjTT3glA3"
   },
   "outputs": [],
   "source": [
    "# Agrupando os dados\n",
    "\n",
    "df_agrupado = df_corona.groupby(['date'])['cases','deaths','monitoring', 'recovered', 'active'].sum().reset_index()"
   ]
  },
  {
   "cell_type": "markdown",
   "metadata": {
    "colab_type": "text",
    "id": "adTOcp4IglA5"
   },
   "source": [
    "O dataframe será ordenado para descobrir em qual data ocorreu o maior número de casos ativos."
   ]
  },
  {
   "cell_type": "code",
   "execution_count": 45,
   "metadata": {
    "colab": {},
    "colab_type": "code",
    "id": "zCd2-xguglA5",
    "outputId": "fba03d12-a191-425d-fdad-5fcf3f5c9ebc",
    "scrolled": true
   },
   "outputs": [
    {
     "data": {
      "text/html": [
       "<div>\n",
       "<style scoped>\n",
       "    .dataframe tbody tr th:only-of-type {\n",
       "        vertical-align: middle;\n",
       "    }\n",
       "\n",
       "    .dataframe tbody tr th {\n",
       "        vertical-align: top;\n",
       "    }\n",
       "\n",
       "    .dataframe thead th {\n",
       "        text-align: right;\n",
       "    }\n",
       "</style>\n",
       "<table border=\"1\" class=\"dataframe\">\n",
       "  <thead>\n",
       "    <tr style=\"text-align: right;\">\n",
       "      <th></th>\n",
       "      <th>date</th>\n",
       "      <th>cases</th>\n",
       "      <th>deaths</th>\n",
       "      <th>monitoring</th>\n",
       "      <th>recovered</th>\n",
       "      <th>active</th>\n",
       "    </tr>\n",
       "  </thead>\n",
       "  <tbody>\n",
       "    <tr>\n",
       "      <th>146</th>\n",
       "      <td>2020-07-20</td>\n",
       "      <td>2118646</td>\n",
       "      <td>80120</td>\n",
       "      <td>629324</td>\n",
       "      <td>612605</td>\n",
       "      <td>1425921</td>\n",
       "    </tr>\n",
       "    <tr>\n",
       "      <th>165</th>\n",
       "      <td>2020-08-08</td>\n",
       "      <td>3012412</td>\n",
       "      <td>100477</td>\n",
       "      <td>817642</td>\n",
       "      <td>2094293</td>\n",
       "      <td>817642</td>\n",
       "    </tr>\n",
       "    <tr>\n",
       "      <th>166</th>\n",
       "      <td>2020-08-09</td>\n",
       "      <td>3035422</td>\n",
       "      <td>101049</td>\n",
       "      <td>815913</td>\n",
       "      <td>2118460</td>\n",
       "      <td>815913</td>\n",
       "    </tr>\n",
       "    <tr>\n",
       "      <th>164</th>\n",
       "      <td>2020-08-07</td>\n",
       "      <td>2962442</td>\n",
       "      <td>99572</td>\n",
       "      <td>794476</td>\n",
       "      <td>2068394</td>\n",
       "      <td>794476</td>\n",
       "    </tr>\n",
       "    <tr>\n",
       "      <th>167</th>\n",
       "      <td>2020-08-10</td>\n",
       "      <td>3057470</td>\n",
       "      <td>101752</td>\n",
       "      <td>791906</td>\n",
       "      <td>2163812</td>\n",
       "      <td>791906</td>\n",
       "    </tr>\n",
       "    <tr>\n",
       "      <th>...</th>\n",
       "      <td>...</td>\n",
       "      <td>...</td>\n",
       "      <td>...</td>\n",
       "      <td>...</td>\n",
       "      <td>...</td>\n",
       "      <td>...</td>\n",
       "    </tr>\n",
       "    <tr>\n",
       "      <th>7</th>\n",
       "      <td>2020-03-03</td>\n",
       "      <td>2</td>\n",
       "      <td>0</td>\n",
       "      <td>0</td>\n",
       "      <td>0</td>\n",
       "      <td>2</td>\n",
       "    </tr>\n",
       "    <tr>\n",
       "      <th>2</th>\n",
       "      <td>2020-02-27</td>\n",
       "      <td>1</td>\n",
       "      <td>0</td>\n",
       "      <td>0</td>\n",
       "      <td>0</td>\n",
       "      <td>1</td>\n",
       "    </tr>\n",
       "    <tr>\n",
       "      <th>1</th>\n",
       "      <td>2020-02-26</td>\n",
       "      <td>1</td>\n",
       "      <td>0</td>\n",
       "      <td>0</td>\n",
       "      <td>0</td>\n",
       "      <td>1</td>\n",
       "    </tr>\n",
       "    <tr>\n",
       "      <th>3</th>\n",
       "      <td>2020-02-28</td>\n",
       "      <td>1</td>\n",
       "      <td>0</td>\n",
       "      <td>0</td>\n",
       "      <td>0</td>\n",
       "      <td>1</td>\n",
       "    </tr>\n",
       "    <tr>\n",
       "      <th>0</th>\n",
       "      <td>2020-02-25</td>\n",
       "      <td>0</td>\n",
       "      <td>0</td>\n",
       "      <td>0</td>\n",
       "      <td>0</td>\n",
       "      <td>0</td>\n",
       "    </tr>\n",
       "  </tbody>\n",
       "</table>\n",
       "<p>172 rows × 6 columns</p>\n",
       "</div>"
      ],
      "text/plain": [
       "          date    cases  deaths  monitoring  recovered   active\n",
       "146 2020-07-20  2118646   80120      629324     612605  1425921\n",
       "165 2020-08-08  3012412  100477      817642    2094293   817642\n",
       "166 2020-08-09  3035422  101049      815913    2118460   815913\n",
       "164 2020-08-07  2962442   99572      794476    2068394   794476\n",
       "167 2020-08-10  3057470  101752      791906    2163812   791906\n",
       "..         ...      ...     ...         ...        ...      ...\n",
       "7   2020-03-03        2       0           0          0        2\n",
       "2   2020-02-27        1       0           0          0        1\n",
       "1   2020-02-26        1       0           0          0        1\n",
       "3   2020-02-28        1       0           0          0        1\n",
       "0   2020-02-25        0       0           0          0        0\n",
       "\n",
       "[172 rows x 6 columns]"
      ]
     },
     "execution_count": 45,
     "metadata": {},
     "output_type": "execute_result"
    }
   ],
   "source": [
    "# Ordenando os registros\n",
    "\n",
    "df_agrupado.sort_values(by='active', ascending=False)"
   ]
  },
  {
   "cell_type": "markdown",
   "metadata": {
    "colab_type": "text",
    "id": "7EEfI6F2glA8"
   },
   "source": [
    "Agrupando a quantidade de casos recuperados, mortes e ativos por data."
   ]
  },
  {
   "cell_type": "code",
   "execution_count": 46,
   "metadata": {
    "colab": {},
    "colab_type": "code",
    "id": "BBeIMLanglA8"
   },
   "outputs": [],
   "source": [
    "# Agrupando\n",
    "\n",
    "df_agrupado = df_agrupado.groupby('date')['cases','deaths','monitoring','recovered','active'].sum().reset_index();"
   ]
  },
  {
   "cell_type": "markdown",
   "metadata": {
    "colab_type": "text",
    "id": "Z_U9DTJLglA-"
   },
   "source": [
    "Será utilizada a função melt do pandas para remodelar o dataframe com variável e valor, para ter a quantidade de casos recuperados, mortos e ativos."
   ]
  },
  {
   "cell_type": "code",
   "execution_count": 47,
   "metadata": {
    "colab": {},
    "colab_type": "code",
    "id": "LgTE-pZ4glA_"
   },
   "outputs": [],
   "source": [
    "# Função melt do pandas para remodelar o dataframe com variável e valor, para ter a quantidade de casos recuperados, mortos e ativos.\n",
    "\n",
    "df_casos_agrupados = df_agrupado.melt(id_vars=\"date\", value_vars=['recovered', 'deaths', 'monitoring','active'],\n",
    "                 var_name='case', value_name='count')"
   ]
  },
  {
   "cell_type": "markdown",
   "metadata": {
    "colab_type": "text",
    "id": "uZZJgpOMglBB"
   },
   "source": [
    "Visualizando as 5 primeiras linhas do dataframe \"df_casos_agrupados\":"
   ]
  },
  {
   "cell_type": "code",
   "execution_count": 48,
   "metadata": {
    "colab": {
     "base_uri": "https://localhost:8080/",
     "height": 164
    },
    "colab_type": "code",
    "id": "vM8yd0bhglBC",
    "outputId": "b81c0aee-9538-4505-d9c4-6088bf8b9ebe"
   },
   "outputs": [
    {
     "data": {
      "text/html": [
       "<div>\n",
       "<style scoped>\n",
       "    .dataframe tbody tr th:only-of-type {\n",
       "        vertical-align: middle;\n",
       "    }\n",
       "\n",
       "    .dataframe tbody tr th {\n",
       "        vertical-align: top;\n",
       "    }\n",
       "\n",
       "    .dataframe thead th {\n",
       "        text-align: right;\n",
       "    }\n",
       "</style>\n",
       "<table border=\"1\" class=\"dataframe\">\n",
       "  <thead>\n",
       "    <tr style=\"text-align: right;\">\n",
       "      <th></th>\n",
       "      <th>date</th>\n",
       "      <th>case</th>\n",
       "      <th>count</th>\n",
       "    </tr>\n",
       "  </thead>\n",
       "  <tbody>\n",
       "    <tr>\n",
       "      <th>0</th>\n",
       "      <td>2020-02-25</td>\n",
       "      <td>recovered</td>\n",
       "      <td>0</td>\n",
       "    </tr>\n",
       "    <tr>\n",
       "      <th>1</th>\n",
       "      <td>2020-02-26</td>\n",
       "      <td>recovered</td>\n",
       "      <td>0</td>\n",
       "    </tr>\n",
       "    <tr>\n",
       "      <th>2</th>\n",
       "      <td>2020-02-27</td>\n",
       "      <td>recovered</td>\n",
       "      <td>0</td>\n",
       "    </tr>\n",
       "    <tr>\n",
       "      <th>3</th>\n",
       "      <td>2020-02-28</td>\n",
       "      <td>recovered</td>\n",
       "      <td>0</td>\n",
       "    </tr>\n",
       "    <tr>\n",
       "      <th>4</th>\n",
       "      <td>2020-02-29</td>\n",
       "      <td>recovered</td>\n",
       "      <td>0</td>\n",
       "    </tr>\n",
       "  </tbody>\n",
       "</table>\n",
       "</div>"
      ],
      "text/plain": [
       "        date       case  count\n",
       "0 2020-02-25  recovered      0\n",
       "1 2020-02-26  recovered      0\n",
       "2 2020-02-27  recovered      0\n",
       "3 2020-02-28  recovered      0\n",
       "4 2020-02-29  recovered      0"
      ]
     },
     "execution_count": 48,
     "metadata": {},
     "output_type": "execute_result"
    }
   ],
   "source": [
    "# Visualizando as 5 primeiras linhas\n",
    "\n",
    "df_casos_agrupados.head(5)"
   ]
  },
  {
   "cell_type": "markdown",
   "metadata": {
    "colab_type": "text",
    "id": "hPCEjui0glBE"
   },
   "source": [
    "Visualizando 5 últimas linhas do dataframe \"df_casos_agrupados\":"
   ]
  },
  {
   "cell_type": "code",
   "execution_count": 49,
   "metadata": {
    "colab": {},
    "colab_type": "code",
    "id": "r-7NSxbLglBH",
    "outputId": "0abbbd72-10c4-4fd9-d72e-90f1d95a7c45"
   },
   "outputs": [
    {
     "data": {
      "text/html": [
       "<div>\n",
       "<style scoped>\n",
       "    .dataframe tbody tr th:only-of-type {\n",
       "        vertical-align: middle;\n",
       "    }\n",
       "\n",
       "    .dataframe tbody tr th {\n",
       "        vertical-align: top;\n",
       "    }\n",
       "\n",
       "    .dataframe thead th {\n",
       "        text-align: right;\n",
       "    }\n",
       "</style>\n",
       "<table border=\"1\" class=\"dataframe\">\n",
       "  <thead>\n",
       "    <tr style=\"text-align: right;\">\n",
       "      <th></th>\n",
       "      <th>date</th>\n",
       "      <th>case</th>\n",
       "      <th>count</th>\n",
       "    </tr>\n",
       "  </thead>\n",
       "  <tbody>\n",
       "    <tr>\n",
       "      <th>683</th>\n",
       "      <td>2020-08-10</td>\n",
       "      <td>active</td>\n",
       "      <td>791906</td>\n",
       "    </tr>\n",
       "    <tr>\n",
       "      <th>684</th>\n",
       "      <td>2020-08-11</td>\n",
       "      <td>active</td>\n",
       "      <td>763480</td>\n",
       "    </tr>\n",
       "    <tr>\n",
       "      <th>685</th>\n",
       "      <td>2020-08-12</td>\n",
       "      <td>active</td>\n",
       "      <td>751107</td>\n",
       "    </tr>\n",
       "    <tr>\n",
       "      <th>686</th>\n",
       "      <td>2020-08-13</td>\n",
       "      <td>active</td>\n",
       "      <td>762773</td>\n",
       "    </tr>\n",
       "    <tr>\n",
       "      <th>687</th>\n",
       "      <td>2020-08-14</td>\n",
       "      <td>active</td>\n",
       "      <td>784695</td>\n",
       "    </tr>\n",
       "  </tbody>\n",
       "</table>\n",
       "</div>"
      ],
      "text/plain": [
       "          date    case   count\n",
       "683 2020-08-10  active  791906\n",
       "684 2020-08-11  active  763480\n",
       "685 2020-08-12  active  751107\n",
       "686 2020-08-13  active  762773\n",
       "687 2020-08-14  active  784695"
      ]
     },
     "execution_count": 49,
     "metadata": {},
     "output_type": "execute_result"
    }
   ],
   "source": [
    "# Visualizando as 5 últimas linhas\n",
    "\n",
    "df_casos_agrupados.tail(5)"
   ]
  },
  {
   "cell_type": "markdown",
   "metadata": {
    "colab_type": "text",
    "id": "lZhEHo8bglBK"
   },
   "source": [
    "Agrupando os dados da geolocalização:"
   ]
  },
  {
   "cell_type": "code",
   "execution_count": 50,
   "metadata": {
    "colab": {},
    "colab_type": "code",
    "id": "4zcDj7XqglBL",
    "outputId": "d214df0d-d24a-4e61-f124-51afe2702f53"
   },
   "outputs": [
    {
     "data": {
      "text/html": [
       "<div>\n",
       "<style scoped>\n",
       "    .dataframe tbody tr th:only-of-type {\n",
       "        vertical-align: middle;\n",
       "    }\n",
       "\n",
       "    .dataframe tbody tr th {\n",
       "        vertical-align: top;\n",
       "    }\n",
       "\n",
       "    .dataframe thead th {\n",
       "        text-align: right;\n",
       "    }\n",
       "</style>\n",
       "<table border=\"1\" class=\"dataframe\">\n",
       "  <thead>\n",
       "    <tr style=\"text-align: right;\">\n",
       "      <th></th>\n",
       "      <th>date</th>\n",
       "      <th>state</th>\n",
       "      <th>name</th>\n",
       "      <th>cases</th>\n",
       "      <th>deaths</th>\n",
       "    </tr>\n",
       "  </thead>\n",
       "  <tbody>\n",
       "    <tr>\n",
       "      <th>0</th>\n",
       "      <td>2020-03-27</td>\n",
       "      <td>AC</td>\n",
       "      <td>Acrelândia</td>\n",
       "      <td>0</td>\n",
       "      <td>0</td>\n",
       "    </tr>\n",
       "    <tr>\n",
       "      <th>1</th>\n",
       "      <td>2020-03-27</td>\n",
       "      <td>AC</td>\n",
       "      <td>Assis Brasil</td>\n",
       "      <td>0</td>\n",
       "      <td>0</td>\n",
       "    </tr>\n",
       "    <tr>\n",
       "      <th>2</th>\n",
       "      <td>2020-03-27</td>\n",
       "      <td>AC</td>\n",
       "      <td>Brasiléia</td>\n",
       "      <td>0</td>\n",
       "      <td>0</td>\n",
       "    </tr>\n",
       "    <tr>\n",
       "      <th>3</th>\n",
       "      <td>2020-03-27</td>\n",
       "      <td>AC</td>\n",
       "      <td>Bujari</td>\n",
       "      <td>0</td>\n",
       "      <td>0</td>\n",
       "    </tr>\n",
       "    <tr>\n",
       "      <th>4</th>\n",
       "      <td>2020-03-27</td>\n",
       "      <td>AC</td>\n",
       "      <td>Capixaba</td>\n",
       "      <td>0</td>\n",
       "      <td>0</td>\n",
       "    </tr>\n",
       "  </tbody>\n",
       "</table>\n",
       "</div>"
      ],
      "text/plain": [
       "        date state          name  cases  deaths\n",
       "0 2020-03-27    AC    Acrelândia      0       0\n",
       "1 2020-03-27    AC  Assis Brasil      0       0\n",
       "2 2020-03-27    AC     Brasiléia      0       0\n",
       "3 2020-03-27    AC        Bujari      0       0\n",
       "4 2020-03-27    AC      Capixaba      0       0"
      ]
     },
     "execution_count": 50,
     "metadata": {},
     "output_type": "execute_result"
    }
   ],
   "source": [
    "# Visualizando as 5 primeiras linhas\n",
    "\n",
    "df_cidades.head(5)"
   ]
  },
  {
   "cell_type": "markdown",
   "metadata": {
    "colab_type": "text",
    "id": "70-0-GpYglBO"
   },
   "source": [
    "Agrupando a quantidade de casos, mortes por data, estado e nome."
   ]
  },
  {
   "cell_type": "code",
   "execution_count": 52,
   "metadata": {
    "colab": {},
    "colab_type": "code",
    "id": "cjcRsnYeglBO"
   },
   "outputs": [],
   "source": [
    "# Agrupando pela quantidade casos, mortes por data, estado e nome\n",
    "\n",
    "df_cidades_agrupado = df_cidades.groupby(['date','state','name'])['cases','deaths'].sum().reset_index()"
   ]
  },
  {
   "cell_type": "markdown",
   "metadata": {
    "colab_type": "text",
    "id": "VIsrXdh7glBS"
   },
   "source": [
    "Criando um novo dataset a partir dos dasets df_cidades_agrupado e df_coord_cidades:"
   ]
  },
  {
   "cell_type": "code",
   "execution_count": 53,
   "metadata": {
    "colab": {},
    "colab_type": "code",
    "id": "SuFbBfbPglBS"
   },
   "outputs": [],
   "source": [
    "# Usando Merge que contenha a cidades que tenham o mesmo nome\n",
    "\n",
    "df_geo_cidades_temp = pd.merge(left=df_cidades_agrupado, right=df_coord_cidades, left_on='name', right_on='city_name')"
   ]
  },
  {
   "cell_type": "markdown",
   "metadata": {
    "colab_type": "text",
    "id": "omDw5xa3glBV"
   },
   "source": [
    "Agora criaremos um novo dataset sobre geolocalização com informações que serão relevantes para a análise."
   ]
  },
  {
   "cell_type": "code",
   "execution_count": 54,
   "metadata": {
    "colab": {},
    "colab_type": "code",
    "id": "jRkhn2dNglBV"
   },
   "outputs": [],
   "source": [
    "# Criando um novo dataset que contenha somente as informações que preciso\n",
    "\n",
    "df_geo_cidades = df_geo_cidades_temp[['date', 'state','name','cases','deaths','lat','long']].copy()"
   ]
  },
  {
   "cell_type": "markdown",
   "metadata": {
    "colab_type": "text",
    "id": "S1NKvirLglBZ"
   },
   "source": [
    "Visualizando o novo dataset:"
   ]
  },
  {
   "cell_type": "code",
   "execution_count": 55,
   "metadata": {
    "colab": {},
    "colab_type": "code",
    "id": "nNiiLxzoglBZ",
    "outputId": "b7e84fbd-169b-4390-c06c-f4e53ffea8f9"
   },
   "outputs": [
    {
     "data": {
      "text/html": [
       "<div>\n",
       "<style scoped>\n",
       "    .dataframe tbody tr th:only-of-type {\n",
       "        vertical-align: middle;\n",
       "    }\n",
       "\n",
       "    .dataframe tbody tr th {\n",
       "        vertical-align: top;\n",
       "    }\n",
       "\n",
       "    .dataframe thead th {\n",
       "        text-align: right;\n",
       "    }\n",
       "</style>\n",
       "<table border=\"1\" class=\"dataframe\">\n",
       "  <thead>\n",
       "    <tr style=\"text-align: right;\">\n",
       "      <th></th>\n",
       "      <th>date</th>\n",
       "      <th>state</th>\n",
       "      <th>name</th>\n",
       "      <th>cases</th>\n",
       "      <th>deaths</th>\n",
       "      <th>lat</th>\n",
       "      <th>long</th>\n",
       "    </tr>\n",
       "  </thead>\n",
       "  <tbody>\n",
       "    <tr>\n",
       "      <th>0</th>\n",
       "      <td>2020-03-27</td>\n",
       "      <td>AC</td>\n",
       "      <td>Acrelândia</td>\n",
       "      <td>0</td>\n",
       "      <td>0</td>\n",
       "      <td>-9.82581</td>\n",
       "      <td>-66.8972</td>\n",
       "    </tr>\n",
       "    <tr>\n",
       "      <th>1</th>\n",
       "      <td>2020-03-28</td>\n",
       "      <td>AC</td>\n",
       "      <td>Acrelândia</td>\n",
       "      <td>0</td>\n",
       "      <td>0</td>\n",
       "      <td>-9.82581</td>\n",
       "      <td>-66.8972</td>\n",
       "    </tr>\n",
       "    <tr>\n",
       "      <th>2</th>\n",
       "      <td>2020-03-29</td>\n",
       "      <td>AC</td>\n",
       "      <td>Acrelândia</td>\n",
       "      <td>2</td>\n",
       "      <td>0</td>\n",
       "      <td>-9.82581</td>\n",
       "      <td>-66.8972</td>\n",
       "    </tr>\n",
       "    <tr>\n",
       "      <th>3</th>\n",
       "      <td>2020-03-30</td>\n",
       "      <td>AC</td>\n",
       "      <td>Acrelândia</td>\n",
       "      <td>6</td>\n",
       "      <td>0</td>\n",
       "      <td>-9.82581</td>\n",
       "      <td>-66.8972</td>\n",
       "    </tr>\n",
       "    <tr>\n",
       "      <th>4</th>\n",
       "      <td>2020-03-31</td>\n",
       "      <td>AC</td>\n",
       "      <td>Acrelândia</td>\n",
       "      <td>7</td>\n",
       "      <td>0</td>\n",
       "      <td>-9.82581</td>\n",
       "      <td>-66.8972</td>\n",
       "    </tr>\n",
       "  </tbody>\n",
       "</table>\n",
       "</div>"
      ],
      "text/plain": [
       "        date state        name  cases  deaths      lat     long\n",
       "0 2020-03-27    AC  Acrelândia      0       0 -9.82581 -66.8972\n",
       "1 2020-03-28    AC  Acrelândia      0       0 -9.82581 -66.8972\n",
       "2 2020-03-29    AC  Acrelândia      2       0 -9.82581 -66.8972\n",
       "3 2020-03-30    AC  Acrelândia      6       0 -9.82581 -66.8972\n",
       "4 2020-03-31    AC  Acrelândia      7       0 -9.82581 -66.8972"
      ]
     },
     "execution_count": 55,
     "metadata": {},
     "output_type": "execute_result"
    }
   ],
   "source": [
    "# Visualizando o novo dataset\n",
    "\n",
    "df_geo_cidades.head(5)"
   ]
  },
  {
   "cell_type": "markdown",
   "metadata": {
    "colab_type": "text",
    "id": "E-1SXC74glBc"
   },
   "source": [
    "Ordenando os dados pela quantidade de casos."
   ]
  },
  {
   "cell_type": "code",
   "execution_count": 56,
   "metadata": {
    "colab": {},
    "colab_type": "code",
    "id": "heDDcxrlglBd",
    "outputId": "c039575d-5d06-4bea-d3a6-eab73769ef47"
   },
   "outputs": [
    {
     "data": {
      "text/html": [
       "<div>\n",
       "<style scoped>\n",
       "    .dataframe tbody tr th:only-of-type {\n",
       "        vertical-align: middle;\n",
       "    }\n",
       "\n",
       "    .dataframe tbody tr th {\n",
       "        vertical-align: top;\n",
       "    }\n",
       "\n",
       "    .dataframe thead th {\n",
       "        text-align: right;\n",
       "    }\n",
       "</style>\n",
       "<table border=\"1\" class=\"dataframe\">\n",
       "  <thead>\n",
       "    <tr style=\"text-align: right;\">\n",
       "      <th></th>\n",
       "      <th>date</th>\n",
       "      <th>state</th>\n",
       "      <th>name</th>\n",
       "      <th>cases</th>\n",
       "      <th>deaths</th>\n",
       "      <th>lat</th>\n",
       "      <th>long</th>\n",
       "    </tr>\n",
       "  </thead>\n",
       "  <tbody>\n",
       "    <tr>\n",
       "      <th>850153</th>\n",
       "      <td>2020-08-15</td>\n",
       "      <td>SP</td>\n",
       "      <td>São Paulo</td>\n",
       "      <td>235519</td>\n",
       "      <td>10592</td>\n",
       "      <td>-23.532900</td>\n",
       "      <td>-46.6395</td>\n",
       "    </tr>\n",
       "    <tr>\n",
       "      <th>850152</th>\n",
       "      <td>2020-08-14</td>\n",
       "      <td>SP</td>\n",
       "      <td>São Paulo</td>\n",
       "      <td>233987</td>\n",
       "      <td>10563</td>\n",
       "      <td>-23.532900</td>\n",
       "      <td>-46.6395</td>\n",
       "    </tr>\n",
       "    <tr>\n",
       "      <th>850151</th>\n",
       "      <td>2020-08-13</td>\n",
       "      <td>SP</td>\n",
       "      <td>São Paulo</td>\n",
       "      <td>231203</td>\n",
       "      <td>10453</td>\n",
       "      <td>-23.532900</td>\n",
       "      <td>-46.6395</td>\n",
       "    </tr>\n",
       "    <tr>\n",
       "      <th>850150</th>\n",
       "      <td>2020-08-12</td>\n",
       "      <td>SP</td>\n",
       "      <td>São Paulo</td>\n",
       "      <td>224140</td>\n",
       "      <td>10311</td>\n",
       "      <td>-23.532900</td>\n",
       "      <td>-46.6395</td>\n",
       "    </tr>\n",
       "    <tr>\n",
       "      <th>850149</th>\n",
       "      <td>2020-08-11</td>\n",
       "      <td>SP</td>\n",
       "      <td>São Paulo</td>\n",
       "      <td>217244</td>\n",
       "      <td>10221</td>\n",
       "      <td>-23.532900</td>\n",
       "      <td>-46.6395</td>\n",
       "    </tr>\n",
       "    <tr>\n",
       "      <th>...</th>\n",
       "      <td>...</td>\n",
       "      <td>...</td>\n",
       "      <td>...</td>\n",
       "      <td>...</td>\n",
       "      <td>...</td>\n",
       "      <td>...</td>\n",
       "      <td>...</td>\n",
       "    </tr>\n",
       "    <tr>\n",
       "      <th>413684</th>\n",
       "      <td>2020-05-04</td>\n",
       "      <td>MT</td>\n",
       "      <td>Nova Santa Helena</td>\n",
       "      <td>0</td>\n",
       "      <td>0</td>\n",
       "      <td>-10.865100</td>\n",
       "      <td>-55.1872</td>\n",
       "    </tr>\n",
       "    <tr>\n",
       "      <th>413683</th>\n",
       "      <td>2020-05-03</td>\n",
       "      <td>MT</td>\n",
       "      <td>Nova Santa Helena</td>\n",
       "      <td>0</td>\n",
       "      <td>0</td>\n",
       "      <td>-10.865100</td>\n",
       "      <td>-55.1872</td>\n",
       "    </tr>\n",
       "    <tr>\n",
       "      <th>413682</th>\n",
       "      <td>2020-05-02</td>\n",
       "      <td>MT</td>\n",
       "      <td>Nova Santa Helena</td>\n",
       "      <td>0</td>\n",
       "      <td>0</td>\n",
       "      <td>-10.865100</td>\n",
       "      <td>-55.1872</td>\n",
       "    </tr>\n",
       "    <tr>\n",
       "      <th>413681</th>\n",
       "      <td>2020-05-01</td>\n",
       "      <td>MT</td>\n",
       "      <td>Nova Santa Helena</td>\n",
       "      <td>0</td>\n",
       "      <td>0</td>\n",
       "      <td>-10.865100</td>\n",
       "      <td>-55.1872</td>\n",
       "    </tr>\n",
       "    <tr>\n",
       "      <th>437999</th>\n",
       "      <td>2020-04-13</td>\n",
       "      <td>PE</td>\n",
       "      <td>Primavera</td>\n",
       "      <td>0</td>\n",
       "      <td>0</td>\n",
       "      <td>-0.945439</td>\n",
       "      <td>-47.1253</td>\n",
       "    </tr>\n",
       "  </tbody>\n",
       "</table>\n",
       "<p>875998 rows × 7 columns</p>\n",
       "</div>"
      ],
      "text/plain": [
       "             date state               name   cases  deaths        lat     long\n",
       "850153 2020-08-15    SP          São Paulo  235519   10592 -23.532900 -46.6395\n",
       "850152 2020-08-14    SP          São Paulo  233987   10563 -23.532900 -46.6395\n",
       "850151 2020-08-13    SP          São Paulo  231203   10453 -23.532900 -46.6395\n",
       "850150 2020-08-12    SP          São Paulo  224140   10311 -23.532900 -46.6395\n",
       "850149 2020-08-11    SP          São Paulo  217244   10221 -23.532900 -46.6395\n",
       "...           ...   ...                ...     ...     ...        ...      ...\n",
       "413684 2020-05-04    MT  Nova Santa Helena       0       0 -10.865100 -55.1872\n",
       "413683 2020-05-03    MT  Nova Santa Helena       0       0 -10.865100 -55.1872\n",
       "413682 2020-05-02    MT  Nova Santa Helena       0       0 -10.865100 -55.1872\n",
       "413681 2020-05-01    MT  Nova Santa Helena       0       0 -10.865100 -55.1872\n",
       "437999 2020-04-13    PE          Primavera       0       0  -0.945439 -47.1253\n",
       "\n",
       "[875998 rows x 7 columns]"
      ]
     },
     "execution_count": 56,
     "metadata": {},
     "output_type": "execute_result"
    }
   ],
   "source": [
    "# Ordenando pela quantidade de casos\n",
    "\n",
    "df_geo_cidades.sort_values(by='cases', ascending=False)"
   ]
  },
  {
   "cell_type": "markdown",
   "metadata": {
    "colab_type": "text",
    "id": "lBY0sUYvglBf"
   },
   "source": [
    "Agora retornando para o dataset \"df_cidades_agrupado\", vamos agrupar as quantidades de casos e mortos por data, estado e nome."
   ]
  },
  {
   "cell_type": "code",
   "execution_count": 57,
   "metadata": {
    "colab": {},
    "colab_type": "code",
    "id": "K_GWi_-MglBf"
   },
   "outputs": [],
   "source": [
    "# Agrupando o dataframe\n",
    "\n",
    "df_cidades_agrupado = df_cidades_agrupado.groupby(['date','state','name'])['cases', 'deaths'].sum().reset_index();"
   ]
  },
  {
   "cell_type": "markdown",
   "metadata": {
    "colab_type": "text",
    "id": "hrkkDlDdglBi"
   },
   "source": [
    "Agora vamos visualizar o dataframe criado:"
   ]
  },
  {
   "cell_type": "code",
   "execution_count": 58,
   "metadata": {
    "colab": {},
    "colab_type": "code",
    "id": "qIhFbEQqglBj",
    "outputId": "c7401781-8a29-43c2-a808-7f0bac0a54cc"
   },
   "outputs": [
    {
     "data": {
      "text/html": [
       "<div>\n",
       "<style scoped>\n",
       "    .dataframe tbody tr th:only-of-type {\n",
       "        vertical-align: middle;\n",
       "    }\n",
       "\n",
       "    .dataframe tbody tr th {\n",
       "        vertical-align: top;\n",
       "    }\n",
       "\n",
       "    .dataframe thead th {\n",
       "        text-align: right;\n",
       "    }\n",
       "</style>\n",
       "<table border=\"1\" class=\"dataframe\">\n",
       "  <thead>\n",
       "    <tr style=\"text-align: right;\">\n",
       "      <th></th>\n",
       "      <th>date</th>\n",
       "      <th>state</th>\n",
       "      <th>name</th>\n",
       "      <th>cases</th>\n",
       "      <th>deaths</th>\n",
       "    </tr>\n",
       "  </thead>\n",
       "  <tbody>\n",
       "    <tr>\n",
       "      <th>0</th>\n",
       "      <td>2020-03-27</td>\n",
       "      <td>AC</td>\n",
       "      <td>Acrelândia</td>\n",
       "      <td>0</td>\n",
       "      <td>0</td>\n",
       "    </tr>\n",
       "    <tr>\n",
       "      <th>1</th>\n",
       "      <td>2020-03-27</td>\n",
       "      <td>AC</td>\n",
       "      <td>Assis Brasil</td>\n",
       "      <td>0</td>\n",
       "      <td>0</td>\n",
       "    </tr>\n",
       "    <tr>\n",
       "      <th>2</th>\n",
       "      <td>2020-03-27</td>\n",
       "      <td>AC</td>\n",
       "      <td>Brasiléia</td>\n",
       "      <td>0</td>\n",
       "      <td>0</td>\n",
       "    </tr>\n",
       "    <tr>\n",
       "      <th>3</th>\n",
       "      <td>2020-03-27</td>\n",
       "      <td>AC</td>\n",
       "      <td>Bujari</td>\n",
       "      <td>0</td>\n",
       "      <td>0</td>\n",
       "    </tr>\n",
       "    <tr>\n",
       "      <th>4</th>\n",
       "      <td>2020-03-27</td>\n",
       "      <td>AC</td>\n",
       "      <td>Capixaba</td>\n",
       "      <td>0</td>\n",
       "      <td>0</td>\n",
       "    </tr>\n",
       "  </tbody>\n",
       "</table>\n",
       "</div>"
      ],
      "text/plain": [
       "        date state          name  cases  deaths\n",
       "0 2020-03-27    AC    Acrelândia      0       0\n",
       "1 2020-03-27    AC  Assis Brasil      0       0\n",
       "2 2020-03-27    AC     Brasiléia      0       0\n",
       "3 2020-03-27    AC        Bujari      0       0\n",
       "4 2020-03-27    AC      Capixaba      0       0"
      ]
     },
     "execution_count": 58,
     "metadata": {},
     "output_type": "execute_result"
    }
   ],
   "source": [
    "# Visualizando os dados contidos no dataframe\n",
    "\n",
    "df_cidades_agrupado.head(5)\n"
   ]
  },
  {
   "cell_type": "markdown",
   "metadata": {
    "colab": {},
    "colab_type": "code",
    "id": "ZkhQIep2glDb"
   },
   "source": [
    "### Salvando os datasets tratados:"
   ]
  },
  {
   "cell_type": "code",
   "execution_count": 59,
   "metadata": {},
   "outputs": [],
   "source": [
    "# Salvando o dataset\n",
    "\n",
    "df_corona.to_csv('../datasets_tratados/df_corona.csv')"
   ]
  },
  {
   "cell_type": "code",
   "execution_count": 60,
   "metadata": {},
   "outputs": [],
   "source": [
    "# Salvando o dataset\n",
    "df_agrupado.to_csv('../datasets_tratados/df_agrupado.csv')"
   ]
  },
  {
   "cell_type": "code",
   "execution_count": 61,
   "metadata": {},
   "outputs": [],
   "source": [
    "# Salvando o dataset\n",
    "df_casos_agrupados.to_csv('../datasets_tratados/df_casos_agrupados.csv')"
   ]
  },
  {
   "cell_type": "code",
   "execution_count": 62,
   "metadata": {},
   "outputs": [],
   "source": [
    "# Salvando o dataset\n",
    "\n",
    "df_cidades_agrupado.to_csv('../datasets_tratados/df_cidades_agrupado.csv')"
   ]
  },
  {
   "cell_type": "code",
   "execution_count": 63,
   "metadata": {},
   "outputs": [],
   "source": [
    "# Salvando o dataset\n",
    "\n",
    "df_geo_cidades.to_csv('../datasets_tratados/df_geo_cidades.csv')"
   ]
  },
  {
   "cell_type": "code",
   "execution_count": null,
   "metadata": {},
   "outputs": [],
   "source": []
  }
 ],
 "metadata": {
  "colab": {
   "collapsed_sections": [
    "eGhvtDV6gk_o",
    "7z6oWOYhglAM",
    "IgW0z5UnglAo",
    "tdA6ipYAglBl",
    "J1cHWLjMglBm",
    "YVYWPUHXglBt",
    "mkvcCfAQglB2",
    "uj7TzZSvglB8",
    "7oAMLPpCglCG",
    "aFvr-lMkglCP",
    "GgYoASz0glCv",
    "oGHhOZ1XglCv",
    "g2SPxmANglDB",
    "CtU0TSEkglDO",
    "GIHxW3SoglDb"
   ],
   "name": "TCC_Análises_de_Séries_Temporais_Relacionadas_a_Covid19_no_Brasil.ipynb",
   "provenance": []
  },
  "kernelspec": {
   "display_name": "Python 3",
   "language": "python",
   "name": "python3"
  },
  "language_info": {
   "codemirror_mode": {
    "name": "ipython",
    "version": 3
   },
   "file_extension": ".py",
   "mimetype": "text/x-python",
   "name": "python",
   "nbconvert_exporter": "python",
   "pygments_lexer": "ipython3",
   "version": "3.7.6"
  }
 },
 "nbformat": 4,
 "nbformat_minor": 1
}
