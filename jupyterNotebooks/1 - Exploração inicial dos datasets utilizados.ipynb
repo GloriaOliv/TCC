{
 jupyter nbconvert --to html NOTEBOOK-NAME.ipynb
 
  {
   "cell_type": "markdown",
   "metadata": {
    "colab_type": "text",
    "id": "TeobA1-Zgk_K"
   },
   "source": [
    "# PUC MINAS\n",
    "\n",
    "## Pós Graduação em Ciência de Dados e Big Data (2019-2020)\n",
    "\n",
    "### Trabalho de Conclusão de Curso\n",
    "\n",
    "### Aluna: Maria da Glória dos Santos Batista de Oliveira\n",
    "\n",
    "\n"
   ]
  },
  {
   "cell_type": "markdown",
   "metadata": {
    "colab_type": "text",
    "id": "88Tid6VOgk_L"
   },
   "source": [
    "Este notebook é relacionado ao meu trabalho de conclusão de curso em Ciência de Dados e Big Data, o título é Análises de Séries Temporais Relacionadas a Covid19 no Brasil, neste trabalho os datasets foran baixados no site [Kaggle](https://www.kaggle.com/), especificamente os arquivos a seguir:\n",
    "\n",
    "- brazil_covid19_macro.csv\n",
    "- brazil_covid19_cities.csv\n",
    "- brazil_cities_coordinates.csv\n",
    "\n",
    "Para a realização dos downloads dos datasets, clique [aqui](https://www.kaggle.com/unanimad/corona-virus-brazil/data?select=brazil_covid19_cities.csv)."
   ]
  },
  {
   "cell_type": "markdown",
   "metadata": {
    "colab_type": "text",
    "id": "1xpvyKV5gk_M"
   },
   "source": [
    "__Leitura dos dados e importação das bibliotecas utilizadas__\n",
    "\n",
    "Para iniciar o trabalho, primeiramente é necessário fazer download dos datasets informados previamente. Assim o documento poderá ser lido sem que qualquer problema ocorra.\n",
    "\n",
    "No código a seguir, as importações das bibliotecas utilizadas e a definição dos métodos para facilitar a visualização dos dados e exibição de gráficos de value counts no Pandas."
   ]
  },
  {
   "cell_type": "code",
   "execution_count": 1,
   "metadata": {
    "colab": {},
    "colab_type": "code",
    "id": "HiUC2s32gk_N"
   },
   "outputs": [],
   "source": [
    "# Imports das bibliotecas utilizadas\n",
    "\n",
    "import pandas as pd\n",
    "\n",
    "import warnings\n",
    "warnings.filterwarnings('ignore')"
   ]
  },
  {
   "cell_type": "markdown",
   "metadata": {
    "colab_type": "text",
    "id": "-9C3PY3Ggk_Q"
   },
   "source": [
    "Vamos realizar as importações dos datasets utilizados:"
   ]
  },
  {
   "cell_type": "code",
   "execution_count": 2,
   "metadata": {
    "colab": {},
    "colab_type": "code",
    "id": "Sn6ahxEIgk_R"
   },
   "outputs": [],
   "source": [
    "# Import do primeiro dataset utilizado\n",
    "\n",
    "arquivo = '../datasets_originais/datasets_549702_1421038_brazil_covid19_macro.csv'\n",
    "df = pd.read_csv(arquivo, sep=',', parse_dates=['date'])"
   ]
  },
  {
   "cell_type": "code",
   "execution_count": 3,
   "metadata": {
    "colab": {},
    "colab_type": "code",
    "id": "gu0mK5QKgk_U"
   },
   "outputs": [],
   "source": [
    "# Import do segundo dataset utilizado\n",
    "\n",
    "cidades = '../datasets_originais/brazil_covid19_cities.csv.zip'\n",
    "df_cidades = pd.read_csv(cidades, sep=',',parse_dates=['date'], compression='zip')"
   ]
  },
  {
   "cell_type": "code",
   "execution_count": 4,
   "metadata": {
    "colab": {},
    "colab_type": "code",
    "id": "MWEP6GxVgk_X"
   },
   "outputs": [],
   "source": [
    "# Import do terceiro dataset utilizado\n",
    "\n",
    "coord_cidades = '../datasets_originais/datasets_549702_1423724_brazil_cities_coordinates.csv'\n",
    "df_coord_cidades = pd.read_csv(coord_cidades, sep=',')"
   ]
  },
  {
   "cell_type": "markdown",
   "metadata": {
    "colab_type": "text",
    "id": "9Cw2JLzJgk_a"
   },
   "source": [
    "Visualizando o primeiro dataset criado:"
   ]
  },
  {
   "cell_type": "code",
   "execution_count": 5,
   "metadata": {
    "colab": {},
    "colab_type": "code",
    "id": "m-u_nn2Sgk_a",
    "outputId": "8078c799-27f5-4400-8867-09bda3786de3",
    "scrolled": true
   },
   "outputs": [
    {
     "data": {
      "text/html": [
       "<div>\n",
       "<style scoped>\n",
       "    .dataframe tbody tr th:only-of-type {\n",
       "        vertical-align: middle;\n",
       "    }\n",
       "\n",
       "    .dataframe tbody tr th {\n",
       "        vertical-align: top;\n",
       "    }\n",
       "\n",
       "    .dataframe thead th {\n",
       "        text-align: right;\n",
       "    }\n",
       "</style>\n",
       "<table border=\"1\" class=\"dataframe\">\n",
       "  <thead>\n",
       "    <tr style=\"text-align: right;\">\n",
       "      <th></th>\n",
       "      <th>date</th>\n",
       "      <th>country</th>\n",
       "      <th>week</th>\n",
       "      <th>cases</th>\n",
       "      <th>deaths</th>\n",
       "      <th>recovered</th>\n",
       "      <th>monitoring</th>\n",
       "    </tr>\n",
       "  </thead>\n",
       "  <tbody>\n",
       "    <tr>\n",
       "      <th>0</th>\n",
       "      <td>2020-02-25</td>\n",
       "      <td>Brasil</td>\n",
       "      <td>9</td>\n",
       "      <td>0</td>\n",
       "      <td>0</td>\n",
       "      <td>NaN</td>\n",
       "      <td>NaN</td>\n",
       "    </tr>\n",
       "    <tr>\n",
       "      <th>1</th>\n",
       "      <td>2020-02-26</td>\n",
       "      <td>Brasil</td>\n",
       "      <td>9</td>\n",
       "      <td>1</td>\n",
       "      <td>0</td>\n",
       "      <td>NaN</td>\n",
       "      <td>NaN</td>\n",
       "    </tr>\n",
       "    <tr>\n",
       "      <th>2</th>\n",
       "      <td>2020-02-27</td>\n",
       "      <td>Brasil</td>\n",
       "      <td>9</td>\n",
       "      <td>1</td>\n",
       "      <td>0</td>\n",
       "      <td>NaN</td>\n",
       "      <td>NaN</td>\n",
       "    </tr>\n",
       "    <tr>\n",
       "      <th>3</th>\n",
       "      <td>2020-02-28</td>\n",
       "      <td>Brasil</td>\n",
       "      <td>9</td>\n",
       "      <td>1</td>\n",
       "      <td>0</td>\n",
       "      <td>NaN</td>\n",
       "      <td>NaN</td>\n",
       "    </tr>\n",
       "    <tr>\n",
       "      <th>4</th>\n",
       "      <td>2020-02-29</td>\n",
       "      <td>Brasil</td>\n",
       "      <td>9</td>\n",
       "      <td>2</td>\n",
       "      <td>0</td>\n",
       "      <td>NaN</td>\n",
       "      <td>NaN</td>\n",
       "    </tr>\n",
       "  </tbody>\n",
       "</table>\n",
       "</div>"
      ],
      "text/plain": [
       "        date country  week  cases  deaths  recovered  monitoring\n",
       "0 2020-02-25  Brasil     9      0       0        NaN         NaN\n",
       "1 2020-02-26  Brasil     9      1       0        NaN         NaN\n",
       "2 2020-02-27  Brasil     9      1       0        NaN         NaN\n",
       "3 2020-02-28  Brasil     9      1       0        NaN         NaN\n",
       "4 2020-02-29  Brasil     9      2       0        NaN         NaN"
      ]
     },
     "execution_count": 5,
     "metadata": {},
     "output_type": "execute_result"
    }
   ],
   "source": [
    "# Visualizando as 5 primeiras linhas do arquivo\n",
    "\n",
    "df.head(5)"
   ]
  },
  {
   "cell_type": "markdown",
   "metadata": {
    "colab_type": "text",
    "id": "pL5ANUOxgk_f"
   },
   "source": [
    "#### Dicionário de dados:\n",
    "\n",
    "- Date: Data\n",
    "- Country: País\n",
    "- Week: Número da Semana\n",
    "- Cases: Número de casos confirmados\n",
    "- Deaths: Número de Mortes\n",
    "- Recovered: Número de pessoas recuperadas\n",
    "- Monitoring: Número de pessoas monitoradas"
   ]
  },
  {
   "cell_type": "markdown",
   "metadata": {
    "colab_type": "text",
    "id": "OtvZkEpygk_f"
   },
   "source": [
    "Visualizando o segundo dataset criado:"
   ]
  },
  {
   "cell_type": "code",
   "execution_count": 6,
   "metadata": {
    "colab": {},
    "colab_type": "code",
    "id": "9fxvVtDHgk_g",
    "outputId": "1d76c37a-4391-4860-eff3-22e94bfdab2f"
   },
   "outputs": [
    {
     "data": {
      "text/html": [
       "<div>\n",
       "<style scoped>\n",
       "    .dataframe tbody tr th:only-of-type {\n",
       "        vertical-align: middle;\n",
       "    }\n",
       "\n",
       "    .dataframe tbody tr th {\n",
       "        vertical-align: top;\n",
       "    }\n",
       "\n",
       "    .dataframe thead th {\n",
       "        text-align: right;\n",
       "    }\n",
       "</style>\n",
       "<table border=\"1\" class=\"dataframe\">\n",
       "  <thead>\n",
       "    <tr style=\"text-align: right;\">\n",
       "      <th></th>\n",
       "      <th>date</th>\n",
       "      <th>state</th>\n",
       "      <th>name</th>\n",
       "      <th>code</th>\n",
       "      <th>cases</th>\n",
       "      <th>deaths</th>\n",
       "    </tr>\n",
       "  </thead>\n",
       "  <tbody>\n",
       "    <tr>\n",
       "      <th>0</th>\n",
       "      <td>2020-03-27</td>\n",
       "      <td>AC</td>\n",
       "      <td>Acrelândia</td>\n",
       "      <td>120001.0</td>\n",
       "      <td>0</td>\n",
       "      <td>0</td>\n",
       "    </tr>\n",
       "    <tr>\n",
       "      <th>1</th>\n",
       "      <td>2020-03-27</td>\n",
       "      <td>AC</td>\n",
       "      <td>Assis Brasil</td>\n",
       "      <td>120005.0</td>\n",
       "      <td>0</td>\n",
       "      <td>0</td>\n",
       "    </tr>\n",
       "    <tr>\n",
       "      <th>2</th>\n",
       "      <td>2020-03-27</td>\n",
       "      <td>AC</td>\n",
       "      <td>Brasiléia</td>\n",
       "      <td>120010.0</td>\n",
       "      <td>0</td>\n",
       "      <td>0</td>\n",
       "    </tr>\n",
       "    <tr>\n",
       "      <th>3</th>\n",
       "      <td>2020-03-27</td>\n",
       "      <td>AC</td>\n",
       "      <td>Bujari</td>\n",
       "      <td>120013.0</td>\n",
       "      <td>0</td>\n",
       "      <td>0</td>\n",
       "    </tr>\n",
       "    <tr>\n",
       "      <th>4</th>\n",
       "      <td>2020-03-27</td>\n",
       "      <td>AC</td>\n",
       "      <td>Capixaba</td>\n",
       "      <td>120017.0</td>\n",
       "      <td>0</td>\n",
       "      <td>0</td>\n",
       "    </tr>\n",
       "  </tbody>\n",
       "</table>\n",
       "</div>"
      ],
      "text/plain": [
       "        date state          name      code  cases  deaths\n",
       "0 2020-03-27    AC    Acrelândia  120001.0      0       0\n",
       "1 2020-03-27    AC  Assis Brasil  120005.0      0       0\n",
       "2 2020-03-27    AC     Brasiléia  120010.0      0       0\n",
       "3 2020-03-27    AC        Bujari  120013.0      0       0\n",
       "4 2020-03-27    AC      Capixaba  120017.0      0       0"
      ]
     },
     "execution_count": 6,
     "metadata": {},
     "output_type": "execute_result"
    }
   ],
   "source": [
    "#Visualizando o dataset criado\n",
    "\n",
    "df_cidades.head(5)"
   ]
  },
  {
   "cell_type": "markdown",
   "metadata": {
    "colab_type": "text",
    "id": "7on8vP5wgk_j"
   },
   "source": [
    "#### Dicionário de dados:\n",
    "\n",
    "- Date: Data\n",
    "- State: Estado\n",
    "- Name: Cidade\n",
    "- Code: Código\n",
    "- Casos: Número de pessoas infectadas\n",
    "- Deaths: Número de Mortes\n",
    "\n"
   ]
  },
  {
   "cell_type": "markdown",
   "metadata": {
    "colab_type": "text",
    "id": "1OOnLODQgk_k"
   },
   "source": [
    "Visualizando o terceiro dataset criado:"
   ]
  },
  {
   "cell_type": "code",
   "execution_count": 7,
   "metadata": {
    "colab": {},
    "colab_type": "code",
    "id": "_D1FRvdqgk_l",
    "outputId": "7baaee43-fb0d-4eb3-c385-6f18cca4e04f"
   },
   "outputs": [
    {
     "data": {
      "text/html": [
       "<div>\n",
       "<style scoped>\n",
       "    .dataframe tbody tr th:only-of-type {\n",
       "        vertical-align: middle;\n",
       "    }\n",
       "\n",
       "    .dataframe tbody tr th {\n",
       "        vertical-align: top;\n",
       "    }\n",
       "\n",
       "    .dataframe thead th {\n",
       "        text-align: right;\n",
       "    }\n",
       "</style>\n",
       "<table border=\"1\" class=\"dataframe\">\n",
       "  <thead>\n",
       "    <tr style=\"text-align: right;\">\n",
       "      <th></th>\n",
       "      <th>state_code</th>\n",
       "      <th>city_code</th>\n",
       "      <th>city_name</th>\n",
       "      <th>lat</th>\n",
       "      <th>long</th>\n",
       "      <th>capital</th>\n",
       "    </tr>\n",
       "  </thead>\n",
       "  <tbody>\n",
       "    <tr>\n",
       "      <th>0</th>\n",
       "      <td>52</td>\n",
       "      <td>5200050</td>\n",
       "      <td>Abadia de Goiás</td>\n",
       "      <td>-16.75730</td>\n",
       "      <td>-49.4412</td>\n",
       "      <td>False</td>\n",
       "    </tr>\n",
       "    <tr>\n",
       "      <th>1</th>\n",
       "      <td>31</td>\n",
       "      <td>3100104</td>\n",
       "      <td>Abadia dos Dourados</td>\n",
       "      <td>-18.48310</td>\n",
       "      <td>-47.3916</td>\n",
       "      <td>False</td>\n",
       "    </tr>\n",
       "    <tr>\n",
       "      <th>2</th>\n",
       "      <td>52</td>\n",
       "      <td>5200100</td>\n",
       "      <td>Abadiânia</td>\n",
       "      <td>-16.19700</td>\n",
       "      <td>-48.7057</td>\n",
       "      <td>False</td>\n",
       "    </tr>\n",
       "    <tr>\n",
       "      <th>3</th>\n",
       "      <td>31</td>\n",
       "      <td>3100203</td>\n",
       "      <td>Abaeté</td>\n",
       "      <td>-19.15510</td>\n",
       "      <td>-45.4444</td>\n",
       "      <td>False</td>\n",
       "    </tr>\n",
       "    <tr>\n",
       "      <th>4</th>\n",
       "      <td>15</td>\n",
       "      <td>1500107</td>\n",
       "      <td>Abaetetuba</td>\n",
       "      <td>-1.72183</td>\n",
       "      <td>-48.8788</td>\n",
       "      <td>False</td>\n",
       "    </tr>\n",
       "  </tbody>\n",
       "</table>\n",
       "</div>"
      ],
      "text/plain": [
       "   state_code  city_code            city_name       lat     long  capital\n",
       "0          52    5200050      Abadia de Goiás -16.75730 -49.4412    False\n",
       "1          31    3100104  Abadia dos Dourados -18.48310 -47.3916    False\n",
       "2          52    5200100            Abadiânia -16.19700 -48.7057    False\n",
       "3          31    3100203               Abaeté -19.15510 -45.4444    False\n",
       "4          15    1500107           Abaetetuba  -1.72183 -48.8788    False"
      ]
     },
     "execution_count": 7,
     "metadata": {},
     "output_type": "execute_result"
    }
   ],
   "source": [
    "# Visualizando \n",
    "\n",
    "df_coord_cidades.head(5)"
   ]
  },
  {
   "cell_type": "markdown",
   "metadata": {
    "colab_type": "text",
    "id": "9u9Wl3Pzgk_n"
   },
   "source": [
    "Dicionário de dados:"
   ]
  },
  {
   "cell_type": "markdown",
   "metadata": {
    "colab_type": "text",
    "id": "OvNSfzHMgk_o"
   },
   "source": [
    "- state_code: Código do estado\n",
    "- city_code: Código da cidade\n",
    "- city_name: Nome da cidade\n",
    "- lat: Latitude\n",
    "- long: Longitude\n",
    "- capital: Indicador de capital"
   ]
  },
  {
   "cell_type": "markdown",
   "metadata": {
    "colab": {},
    "colab_type": "code",
    "id": "ZkhQIep2glDb"
   },
   "source": [
    "### Salvando os novos datasets:"
   ]
  },
  {
   "cell_type": "code",
   "execution_count": 8,
   "metadata": {},
   "outputs": [],
   "source": [
    "# Salvando o dataset\n",
    "df.to_csv('../datasets_originais/df.csv')"
   ]
  },
  {
   "cell_type": "code",
   "execution_count": 9,
   "metadata": {},
   "outputs": [],
   "source": [
    "# Salvando o dataset\n",
    "df_cidades.to_csv('../datasets_originais/df_cidades.csv.gz', compression='gzip')"
   ]
  },
  {
   "cell_type": "code",
   "execution_count": 10,
   "metadata": {},
   "outputs": [],
   "source": [
    "# Salvando o dataset\n",
    "df_coord_cidades.to_csv('../datasets_originais/df_coord_cidades.csv')"
   ]
  }
 ],
 "metadata": {
  "colab": {
   "collapsed_sections": [
    "eGhvtDV6gk_o",
    "7z6oWOYhglAM",
    "IgW0z5UnglAo",
    "tdA6ipYAglBl",
    "J1cHWLjMglBm",
    "YVYWPUHXglBt",
    "mkvcCfAQglB2",
    "uj7TzZSvglB8",
    "7oAMLPpCglCG",
    "aFvr-lMkglCP",
    "GgYoASz0glCv",
    "oGHhOZ1XglCv",
    "g2SPxmANglDB",
    "CtU0TSEkglDO",
    "GIHxW3SoglDb"
   ],
   "name": "TCC_Análises_de_Séries_Temporais_Relacionadas_a_Covid19_no_Brasil.ipynb",
   "provenance": []
  },
  "kernelspec": {
   "display_name": "Python 3",
   "language": "python",
   "name": "python3"
  },
  "language_info": {
   "codemirror_mode": {
    "name": "ipython",
    "version": 3
   },
   "file_extension": ".py",
   "mimetype": "text/x-python",
   "name": "python",
   "nbconvert_exporter": "python",
   "pygments_lexer": "ipython3",
   "version": "3.7.6"
  }
 },
 "nbformat": 4,
 "nbformat_minor": 1
}
