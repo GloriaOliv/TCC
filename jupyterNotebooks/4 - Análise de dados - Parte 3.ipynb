{
 "cells": [
  {
   "cell_type": "markdown",
   "metadata": {
    "colab_type": "text",
    "id": "TeobA1-Zgk_K"
   },
   "source": [
    "# PUC MINAS\n",
    "\n",
    "## Pós Graduação em Ciência de Dados e Big Data (2019-2020)\n",
    "\n",
    "### Trabalho de Conclusão de Curso\n",
    "\n",
    "### Aluna: Maria da Glória dos Santos Batista de Oliveira\n",
    "\n",
    "\n"
   ]
  },
  {
   "cell_type": "markdown",
   "metadata": {
    "colab_type": "text",
    "id": "1xpvyKV5gk_M"
   },
   "source": [
    "__Leitura dos dados e importação das bibliotecas utilizadas__\n",
    "\n",
    "Para iniciar o trabalho, primeiramente é necessário fazer download dos datasets informados previamente. Assim o documento poderá ser lido sem que qualquer problema ocorra.\n",
    "\n",
    "No código a seguir, as importações das bibliotecas utilizadas e a definição dos métodos para facilitar a visualização dos dados e exibição de gráficos de value counts no Pandas."
   ]
  },
  {
   "cell_type": "code",
   "execution_count": 1,
   "metadata": {
    "colab": {},
    "colab_type": "code",
    "id": "HiUC2s32gk_N"
   },
   "outputs": [],
   "source": [
    "# Imports das bibliotecas utilizadas\n",
    "\n",
    "import pandas as pd\n",
    "import numpy as np\n",
    "\n",
    "# Visualização\n",
    "import matplotlib.pyplot as plt\n",
    "%matplotlib inline\n",
    "import folium \n",
    "from folium import plugins\n",
    "\n",
    "# Manipulando o tamanho padrão do plot\n",
    "plt.rcParams['figure.figsize'] = 8, 5\n",
    "\n",
    "# Não exibir as mensagens de warnings\n",
    "import warnings\n",
    "warnings.filterwarnings('ignore')"
   ]
  },
  {
   "cell_type": "markdown",
   "metadata": {
    "colab_type": "text",
    "id": "-9C3PY3Ggk_Q"
   },
   "source": [
    "Vamos realizar as importações dos datasets utilizados:"
   ]
  },
  {
   "cell_type": "code",
   "execution_count": 3,
   "metadata": {
    "colab": {},
    "colab_type": "code",
    "id": "wrFejjPyB9lN"
   },
   "outputs": [],
   "source": [
    "# Import do dataset utilizado\n",
    "\n",
    "geo_cidades = '../datasets_tratados/df_geo_cidades.csv.gz'\n",
    "\n",
    "# filtrando as colunas que serão utilizadas:\n",
    "lista_colunas = [\"date\",\"state\", \"name\", \"cases\",\"deaths\", \"lat\", \"long\"]\n",
    "\n",
    "df_geo_cidades = pd.read_csv(geo_cidades, sep=',', parse_dates=['date'], compression='gzip', usecols=lista_colunas)"
   ]
  },
  {
   "cell_type": "markdown",
   "metadata": {
    "colab_type": "text",
    "id": "Y-K6-6VBB9lQ"
   },
   "source": [
    "#### Visualizando os datasets importados:"
   ]
  },
  {
   "cell_type": "code",
   "execution_count": 4,
   "metadata": {
    "colab": {},
    "colab_type": "code",
    "id": "3PrV3LOFB9lW",
    "outputId": "0a354e8d-b3a3-46e1-b814-623f35d63517"
   },
   "outputs": [
    {
     "data": {
      "text/html": [
       "<div>\n",
       "<style scoped>\n",
       "    .dataframe tbody tr th:only-of-type {\n",
       "        vertical-align: middle;\n",
       "    }\n",
       "\n",
       "    .dataframe tbody tr th {\n",
       "        vertical-align: top;\n",
       "    }\n",
       "\n",
       "    .dataframe thead th {\n",
       "        text-align: right;\n",
       "    }\n",
       "</style>\n",
       "<table border=\"1\" class=\"dataframe\">\n",
       "  <thead>\n",
       "    <tr style=\"text-align: right;\">\n",
       "      <th></th>\n",
       "      <th>date</th>\n",
       "      <th>state</th>\n",
       "      <th>name</th>\n",
       "      <th>cases</th>\n",
       "      <th>deaths</th>\n",
       "      <th>lat</th>\n",
       "      <th>long</th>\n",
       "    </tr>\n",
       "  </thead>\n",
       "  <tbody>\n",
       "    <tr>\n",
       "      <th>0</th>\n",
       "      <td>2020-03-27</td>\n",
       "      <td>AC</td>\n",
       "      <td>Acrelândia</td>\n",
       "      <td>0</td>\n",
       "      <td>0</td>\n",
       "      <td>-9.82581</td>\n",
       "      <td>-66.8972</td>\n",
       "    </tr>\n",
       "    <tr>\n",
       "      <th>1</th>\n",
       "      <td>2020-03-28</td>\n",
       "      <td>AC</td>\n",
       "      <td>Acrelândia</td>\n",
       "      <td>0</td>\n",
       "      <td>0</td>\n",
       "      <td>-9.82581</td>\n",
       "      <td>-66.8972</td>\n",
       "    </tr>\n",
       "    <tr>\n",
       "      <th>2</th>\n",
       "      <td>2020-03-29</td>\n",
       "      <td>AC</td>\n",
       "      <td>Acrelândia</td>\n",
       "      <td>2</td>\n",
       "      <td>0</td>\n",
       "      <td>-9.82581</td>\n",
       "      <td>-66.8972</td>\n",
       "    </tr>\n",
       "    <tr>\n",
       "      <th>3</th>\n",
       "      <td>2020-03-30</td>\n",
       "      <td>AC</td>\n",
       "      <td>Acrelândia</td>\n",
       "      <td>6</td>\n",
       "      <td>0</td>\n",
       "      <td>-9.82581</td>\n",
       "      <td>-66.8972</td>\n",
       "    </tr>\n",
       "    <tr>\n",
       "      <th>4</th>\n",
       "      <td>2020-03-31</td>\n",
       "      <td>AC</td>\n",
       "      <td>Acrelândia</td>\n",
       "      <td>7</td>\n",
       "      <td>0</td>\n",
       "      <td>-9.82581</td>\n",
       "      <td>-66.8972</td>\n",
       "    </tr>\n",
       "  </tbody>\n",
       "</table>\n",
       "</div>"
      ],
      "text/plain": [
       "        date state        name  cases  deaths      lat     long\n",
       "0 2020-03-27    AC  Acrelândia      0       0 -9.82581 -66.8972\n",
       "1 2020-03-28    AC  Acrelândia      0       0 -9.82581 -66.8972\n",
       "2 2020-03-29    AC  Acrelândia      2       0 -9.82581 -66.8972\n",
       "3 2020-03-30    AC  Acrelândia      6       0 -9.82581 -66.8972\n",
       "4 2020-03-31    AC  Acrelândia      7       0 -9.82581 -66.8972"
      ]
     },
     "execution_count": 4,
     "metadata": {},
     "output_type": "execute_result"
    }
   ],
   "source": [
    "# Visualizando o dataset:\n",
    "\n",
    "df_geo_cidades.head(5)"
   ]
  },
  {
   "cell_type": "markdown",
   "metadata": {
    "colab_type": "text",
    "id": "aFvr-lMkglCP"
   },
   "source": [
    "#### 6 - Qual a região mais afetada por esta doença?"
   ]
  },
  {
   "cell_type": "markdown",
   "metadata": {
    "colab_type": "text",
    "id": "M6Qa9rdQglCP"
   },
   "source": [
    "Criando um dataframe para posteriormente um gráfico ser criado a partir dele."
   ]
  },
  {
   "cell_type": "markdown",
   "metadata": {
    "colab_type": "text",
    "id": "zS6KppMZglCR"
   },
   "source": [
    "Visualizando o gráfico por estado relacionado à esta doença:"
   ]
  },
  {
   "cell_type": "code",
   "execution_count": null,
   "metadata": {
    "colab": {},
    "colab_type": "code",
    "id": "iUIb9Gl9glCu",
    "scrolled": true
   },
   "outputs": [],
   "source": [
    "# Visualizando a informação através de outro tipo de mapa\n",
    "\n",
    "# Obtendo os dados do último dia da base de dados\n",
    "temp = df_geo_cidades[df_geo_cidades['date'] == max(df_geo_cidades['date'])]\n",
    "\n",
    "import folium\n",
    "m = folium.Map(location=[0, 0], tiles='cartodbpositron',\n",
    "               min_zoom=1, max_zoom=4, zoom_start=1)\n",
    "\n",
    "for i in range(0, len(temp)):\n",
    "    folium.Circle(\n",
    "        location=[temp.iloc[i]['lat'], temp.iloc[i]['long']],\n",
    "        color='crimson', fill='crimson',\n",
    "        tooltip =   '<li><bold>Province : '+str(temp.iloc[i]['state'])+\n",
    "                    '<li><bold>Confirmed : '+str(temp.iloc[i]['cases'])+\n",
    "                    '<li><bold>Deaths : '+str(temp.iloc[i]['deaths']),\n",
    "        radius=int(temp.iloc[i]['cases'])**1.1).add_to(m)\n",
    "m"
   ]
  }
 ],
 "metadata": {
  "colab": {
   "collapsed_sections": [
    "eGhvtDV6gk_o",
    "7z6oWOYhglAM",
    "IgW0z5UnglAo",
    "tdA6ipYAglBl",
    "J1cHWLjMglBm",
    "YVYWPUHXglBt",
    "mkvcCfAQglB2",
    "uj7TzZSvglB8",
    "7oAMLPpCglCG",
    "aFvr-lMkglCP",
    "GgYoASz0glCv",
    "oGHhOZ1XglCv",
    "g2SPxmANglDB",
    "CtU0TSEkglDO",
    "GIHxW3SoglDb"
   ],
   "name": "4 - Análise de dados - Parte 3.ipynb",
   "provenance": []
  },
  "kernelspec": {
   "display_name": "Python 3",
   "language": "python",
   "name": "python3"
  },
  "language_info": {
   "codemirror_mode": {
    "name": "ipython",
    "version": 3
   },
   "file_extension": ".py",
   "mimetype": "text/x-python",
   "name": "python",
   "nbconvert_exporter": "python",
   "pygments_lexer": "ipython3",
   "version": "3.7.6"
  }
 },
 "nbformat": 4,
 "nbformat_minor": 1
}
