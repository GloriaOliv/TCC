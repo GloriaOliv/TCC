{
 "cells": [
  {
   "cell_type": "markdown",
   "metadata": {
    "colab_type": "text",
    "id": "TeobA1-Zgk_K"
   },
   "source": [
    "# PUC MINAS\n",
    "\n",
    "## Pós Graduação em Ciência de Dados e Big Data (2019-2020)\n",
    "\n",
    "### Trabalho de Conclusão de Curso\n",
    "\n",
    "### Aluna: Maria da Glória dos Santos Batista de Oliveira\n",
    "\n",
    "\n"
   ]
  },
  {
   "cell_type": "markdown",
   "metadata": {
    "colab_type": "text",
    "id": "1xpvyKV5gk_M"
   },
   "source": [
    "__Leitura dos dados e importação das bibliotecas utilizadas__\n",
    "\n",
    "Para iniciar o trabalho, primeiramente é necessário fazer download dos datasets informados previamente. Assim o documento poderá ser lido sem que qualquer problema ocorra.\n",
    "\n",
    "No código a seguir, as importações das bibliotecas utilizadas e a definição dos métodos para facilitar a visualização dos dados e exibição de gráficos de value counts no Pandas."
   ]
  },
  {
   "cell_type": "code",
   "execution_count": 1,
   "metadata": {
    "colab": {},
    "colab_type": "code",
    "id": "HiUC2s32gk_N"
   },
   "outputs": [],
   "source": [
    "# Imports das bibliotecas utilizadas\n",
    "\n",
    "import pandas as pd\n",
    "import numpy as np\n",
    "\n",
    "# Não exibir as mensagens de warnings\n",
    "import warnings\n",
    "warnings.filterwarnings('ignore')"
   ]
  },
  {
   "cell_type": "markdown",
   "metadata": {
    "colab_type": "text",
    "id": "-9C3PY3Ggk_Q"
   },
   "source": [
    "Vamos realizar a importação do dataset utilizado:"
   ]
  },
  {
   "cell_type": "code",
   "execution_count": 6,
   "metadata": {
    "colab": {},
    "colab_type": "code",
    "id": "Sn6ahxEIgk_R"
   },
   "outputs": [],
   "source": [
    "# Import do primeiro dataset utilizado\n",
    "arquivo = '../datasets_tratados/df_agrupado.csv'\n",
    "\n",
    "# Filtrando as colunas que serão utilizadas:\n",
    "lista_colunas = [\"date\", \"cases\", \"deaths\", \"monitoring\", \"recovered\", \"active\"]\n",
    "\n",
    "df_agrupado = pd.read_csv(arquivo, sep=',', parse_dates=['date'], usecols=lista_colunas)"
   ]
  },
  {
   "cell_type": "markdown",
   "metadata": {},
   "source": [
    "#### Visualizando o dataset importado:"
   ]
  },
  {
   "cell_type": "code",
   "execution_count": 7,
   "metadata": {},
   "outputs": [
    {
     "data": {
      "text/html": [
       "<div>\n",
       "<style scoped>\n",
       "    .dataframe tbody tr th:only-of-type {\n",
       "        vertical-align: middle;\n",
       "    }\n",
       "\n",
       "    .dataframe tbody tr th {\n",
       "        vertical-align: top;\n",
       "    }\n",
       "\n",
       "    .dataframe thead th {\n",
       "        text-align: right;\n",
       "    }\n",
       "</style>\n",
       "<table border=\"1\" class=\"dataframe\">\n",
       "  <thead>\n",
       "    <tr style=\"text-align: right;\">\n",
       "      <th></th>\n",
       "      <th>date</th>\n",
       "      <th>cases</th>\n",
       "      <th>deaths</th>\n",
       "      <th>monitoring</th>\n",
       "      <th>recovered</th>\n",
       "      <th>active</th>\n",
       "    </tr>\n",
       "  </thead>\n",
       "  <tbody>\n",
       "    <tr>\n",
       "      <th>0</th>\n",
       "      <td>2020-02-25</td>\n",
       "      <td>0</td>\n",
       "      <td>0</td>\n",
       "      <td>0</td>\n",
       "      <td>0</td>\n",
       "      <td>0</td>\n",
       "    </tr>\n",
       "    <tr>\n",
       "      <th>1</th>\n",
       "      <td>2020-02-26</td>\n",
       "      <td>1</td>\n",
       "      <td>0</td>\n",
       "      <td>0</td>\n",
       "      <td>0</td>\n",
       "      <td>1</td>\n",
       "    </tr>\n",
       "    <tr>\n",
       "      <th>2</th>\n",
       "      <td>2020-02-27</td>\n",
       "      <td>1</td>\n",
       "      <td>0</td>\n",
       "      <td>0</td>\n",
       "      <td>0</td>\n",
       "      <td>1</td>\n",
       "    </tr>\n",
       "    <tr>\n",
       "      <th>3</th>\n",
       "      <td>2020-02-28</td>\n",
       "      <td>1</td>\n",
       "      <td>0</td>\n",
       "      <td>0</td>\n",
       "      <td>0</td>\n",
       "      <td>1</td>\n",
       "    </tr>\n",
       "    <tr>\n",
       "      <th>4</th>\n",
       "      <td>2020-02-29</td>\n",
       "      <td>2</td>\n",
       "      <td>0</td>\n",
       "      <td>0</td>\n",
       "      <td>0</td>\n",
       "      <td>2</td>\n",
       "    </tr>\n",
       "  </tbody>\n",
       "</table>\n",
       "</div>"
      ],
      "text/plain": [
       "        date  cases  deaths  monitoring  recovered  active\n",
       "0 2020-02-25      0       0           0          0       0\n",
       "1 2020-02-26      1       0           0          0       1\n",
       "2 2020-02-27      1       0           0          0       1\n",
       "3 2020-02-28      1       0           0          0       1\n",
       "4 2020-02-29      2       0           0          0       2"
      ]
     },
     "execution_count": 7,
     "metadata": {},
     "output_type": "execute_result"
    }
   ],
   "source": [
    "# Visualizando o dataset:\n",
    "\n",
    "df_agrupado.head(5)"
   ]
  },
  {
   "cell_type": "markdown",
   "metadata": {
    "colab_type": "text",
    "id": "J1cHWLjMglBm"
   },
   "source": [
    "#### - Quantas pessoas foram infectadas com esta doença?"
   ]
  },
  {
   "cell_type": "markdown",
   "metadata": {
    "colab_type": "text",
    "id": "KJk36QevglBm"
   },
   "source": [
    "Para uma análise melhor dos dados, vamos gerar um dataframe exclusivo para responder esta pergunta."
   ]
  },
  {
   "cell_type": "code",
   "execution_count": 8,
   "metadata": {
    "colab": {
     "base_uri": "https://localhost:8080/",
     "height": 215
    },
    "colab_type": "code",
    "id": "ifAHOZVkglBn",
    "outputId": "7cb396ac-8536-493a-f6d3-47ea638fd950"
   },
   "outputs": [],
   "source": [
    "# Gerando dataframe para análise de pessoas doentes\n",
    "\n",
    "df_qtd_ativos = df_agrupado.melt(id_vars=\"date\", value_vars=['active'],\n",
    "                 var_name='case', value_name='count')"
   ]
  },
  {
   "cell_type": "markdown",
   "metadata": {
    "colab_type": "text",
    "id": "YVYWPUHXglBt"
   },
   "source": [
    "#### - Quantas pessoas estão sendo monitoradas com suspeita dessa doença?"
   ]
  },
  {
   "cell_type": "markdown",
   "metadata": {
    "colab_type": "text",
    "id": "6IA3EyEhglBt"
   },
   "source": [
    "Para uma realização de uma melhor análise dos dados, vamos gerar um dataframe exclusivo para responder esta pergunta."
   ]
  },
  {
   "cell_type": "code",
   "execution_count": 9,
   "metadata": {
    "colab": {},
    "colab_type": "code",
    "id": "_HbScWU6glBu"
   },
   "outputs": [],
   "source": [
    "# Gerando dataframe para análise de pessoas monitoradas\n",
    "\n",
    "df_qtd_monitorados = df_agrupado.melt(id_vars=\"date\", value_vars=['monitoring'],\n",
    "                 var_name='case', value_name='count')"
   ]
  },
  {
   "cell_type": "markdown",
   "metadata": {
    "colab_type": "text",
    "id": "mkvcCfAQglB2"
   },
   "source": [
    "#### - Quantas pessoas morreram com esta doença?"
   ]
  },
  {
   "cell_type": "markdown",
   "metadata": {
    "colab_type": "text",
    "id": "1Jz5U3vaglB3"
   },
   "source": [
    "Para um melhor entendimento dos dados, vamos gerar um dataframe exclusivo para responder esta pergunta."
   ]
  },
  {
   "cell_type": "code",
   "execution_count": 10,
   "metadata": {
    "colab": {
     "base_uri": "https://localhost:8080/",
     "height": 215
    },
    "colab_type": "code",
    "id": "-M3W0dIPglB3",
    "outputId": "7046790d-679b-4dab-8f50-51c63cdf528c",
    "scrolled": true
   },
   "outputs": [],
   "source": [
    "# Gerando dataframe para análise de pessoas mortas\n",
    "\n",
    "df_qtd_mortos = df_agrupado.melt(id_vars=\"date\", value_vars=['deaths'],\n",
    "                 var_name='case', value_name='count')\n"
   ]
  },
  {
   "cell_type": "markdown",
   "metadata": {
    "colab_type": "text",
    "id": "uj7TzZSvglB8"
   },
   "source": [
    "#### - Quantas pessoas se recuperaram com esta doença?"
   ]
  },
  {
   "cell_type": "markdown",
   "metadata": {
    "colab_type": "text",
    "id": "ZpTJIqsgglB8"
   },
   "source": [
    "Para uma melhor compreensão dos dados, vamos gerar um dataframe exclusivo para responder esta pergunta."
   ]
  },
  {
   "cell_type": "code",
   "execution_count": 11,
   "metadata": {
    "colab": {
     "base_uri": "https://localhost:8080/",
     "height": 215
    },
    "colab_type": "code",
    "id": "GthsJMR6glB9",
    "outputId": "754eec10-66f6-4351-9d6c-82dca96c4e8f"
   },
   "outputs": [],
   "source": [
    "# Gerando dataframe para análise de pessoas recuperadas\n",
    "\n",
    "df_qtd_recuperados = df_agrupado.melt(id_vars=\"date\", value_vars=['recovered'],\n",
    "                 var_name='case', value_name='count')"
   ]
  },
  {
   "cell_type": "markdown",
   "metadata": {
    "colab_type": "text",
    "id": "GgYoASz0glCv"
   },
   "source": [
    "### -  Geração de datasets sobre o Corona Vírus para os seguintes cenários:"
   ]
  },
  {
   "cell_type": "markdown",
   "metadata": {
    "colab_type": "text",
    "id": "oGHhOZ1XglCv"
   },
   "source": [
    "#### - Quantidade pessoas que terão essa doença"
   ]
  },
  {
   "cell_type": "code",
   "execution_count": 12,
   "metadata": {
    "colab": {
     "base_uri": "https://localhost:8080/",
     "height": 198
    },
    "colab_type": "code",
    "id": "7WwK2M-BglCw",
    "outputId": "9ab16dcc-065f-40a1-8937-a5097e83cd54"
   },
   "outputs": [],
   "source": [
    "# Criando um novo dataframe para analise a partir do dataframe df_ativos\n",
    "\n",
    "df_ativos = df_qtd_ativos[['date', 'count']].copy()"
   ]
  },
  {
   "cell_type": "markdown",
   "metadata": {
    "colab_type": "text",
    "id": "g2SPxmANglDB"
   },
   "source": [
    "#### - Quantidade de pessoas que se recuperarão desta doença\n"
   ]
  },
  {
   "cell_type": "code",
   "execution_count": 13,
   "metadata": {
    "colab": {
     "base_uri": "https://localhost:8080/",
     "height": 198
    },
    "colab_type": "code",
    "id": "7Kp7irMdglDD",
    "outputId": "4e14c4f0-434e-45a4-c50b-bf3f7100c10f"
   },
   "outputs": [],
   "source": [
    "# Montando um dataframe para análise dos dados\n",
    "\n",
    "df_recuperados = df_qtd_recuperados[['date', 'count']].copy()"
   ]
  },
  {
   "cell_type": "markdown",
   "metadata": {
    "colab_type": "text",
    "id": "CtU0TSEkglDO"
   },
   "source": [
    "#### - Quantidade de pessoas que morrerão com esta doença"
   ]
  },
  {
   "cell_type": "code",
   "execution_count": 14,
   "metadata": {
    "colab": {
     "base_uri": "https://localhost:8080/",
     "height": 198
    },
    "colab_type": "code",
    "id": "Un_j5V7ZglDQ",
    "outputId": "8b07906d-b621-4828-d434-3b1524531610"
   },
   "outputs": [],
   "source": [
    "# Montando um dataframe para análise dos dados\n",
    "\n",
    "df_mortos = df_qtd_mortos[['date', 'count']].copy()"
   ]
  },
  {
   "cell_type": "markdown",
   "metadata": {
    "colab_type": "text",
    "id": "4i0dCKpdnvun"
   },
   "source": [
    "### Salvando os datasets tratados:"
   ]
  },
  {
   "cell_type": "code",
   "execution_count": 15,
   "metadata": {
    "colab": {},
    "colab_type": "code",
    "id": "ZkhQIep2glDb"
   },
   "outputs": [],
   "source": [
    "# Salvando o dataset\n",
    "\n",
    "df_qtd_ativos.to_csv('../datasets_tratados/df_qtd_ativos.csv')"
   ]
  },
  {
   "cell_type": "code",
   "execution_count": 16,
   "metadata": {},
   "outputs": [],
   "source": [
    "# Salvando o dataset\n",
    "\n",
    "df_qtd_monitorados.to_csv('../datasets_tratados/df_qtd_monitorados.csv')"
   ]
  },
  {
   "cell_type": "code",
   "execution_count": 17,
   "metadata": {},
   "outputs": [],
   "source": [
    "# Salvando o dataset\n",
    "\n",
    "df_qtd_mortos.to_csv('../datasets_tratados/df_qtd_mortos.csv')"
   ]
  },
  {
   "cell_type": "code",
   "execution_count": 18,
   "metadata": {},
   "outputs": [],
   "source": [
    "# Salvando o dataset\n",
    "\n",
    "df_qtd_recuperados.to_csv('../datasets_tratados/df_qtd_recuperados.csv')"
   ]
  },
  {
   "cell_type": "code",
   "execution_count": 19,
   "metadata": {},
   "outputs": [],
   "source": [
    "# Salvando o dataset\n",
    "\n",
    "df_ativos.to_csv('../datasets_tratados/df_ativos.csv')"
   ]
  },
  {
   "cell_type": "code",
   "execution_count": 20,
   "metadata": {},
   "outputs": [],
   "source": [
    "# Salvando o dataset\n",
    "\n",
    "df_recuperados.to_csv('../datasets_tratados/df_recuperados.csv')"
   ]
  },
  {
   "cell_type": "code",
   "execution_count": 21,
   "metadata": {},
   "outputs": [],
   "source": [
    "# Salvando o dataset\n",
    "\n",
    "df_mortos.to_csv('../datasets_tratados/df_mortos.csv')"
   ]
  },
  {
   "cell_type": "code",
   "execution_count": null,
   "metadata": {},
   "outputs": [],
   "source": []
  }
 ],
 "metadata": {
  "colab": {
   "collapsed_sections": [
    "eGhvtDV6gk_o",
    "7z6oWOYhglAM",
    "IgW0z5UnglAo",
    "tdA6ipYAglBl",
    "J1cHWLjMglBm",
    "YVYWPUHXglBt",
    "mkvcCfAQglB2",
    "uj7TzZSvglB8",
    "7oAMLPpCglCG",
    "aFvr-lMkglCP",
    "GgYoASz0glCv",
    "oGHhOZ1XglCv",
    "g2SPxmANglDB",
    "CtU0TSEkglDO",
    "GIHxW3SoglDb"
   ],
   "name": "3 - Processamento e Tratamento de Dados_old.ipynb",
   "provenance": []
  },
  "kernelspec": {
   "display_name": "Python 3",
   "language": "python",
   "name": "python3"
  },
  "language_info": {
   "codemirror_mode": {
    "name": "ipython",
    "version": 3
   },
   "file_extension": ".py",
   "mimetype": "text/x-python",
   "name": "python",
   "nbconvert_exporter": "python",
   "pygments_lexer": "ipython3",
   "version": "3.7.6"
  }
 },
 "nbformat": 4,
 "nbformat_minor": 1
}
